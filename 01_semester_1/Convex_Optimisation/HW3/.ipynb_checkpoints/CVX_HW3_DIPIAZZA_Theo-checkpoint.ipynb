{
  "cells": [
    {
      "cell_type": "markdown",
      "metadata": {
        "id": "ShB5gxXEJpxF"
      },
      "source": [
        "# Convex Optimization - Homework 3 \n",
        "*Student :* Théo Di Piazza\n",
        "\n",
        "*Date :* November 2022\n",
        "\n",
        "*Course :* Convex Optimization \n",
        "\n",
        "*Teacher :* Alexandre d'Aspremont"
      ]
    },
    {
      "cell_type": "markdown",
      "metadata": {
        "id": "8o1NJy23KDxZ"
      },
      "source": [
        "---\n",
        "# Question 1 \n",
        "\n",
        "Let's consider the LASSO problem :   \n",
        "\n",
        "$$\\min_{w} \\frac{1}{2}||Xw-y||_{2}^2+\\lambda||w||_{1}$$\n",
        "\n",
        "Derive the dual problem of LASSO and format it as a general Quadratic Problem as\n",
        "follows :\n",
        "\n",
        "$$\\min_{v} v^TQv + p^Tv$$\n",
        "$$s.t. \\ Av\\leq b$$\n",
        "\n",
        "**Answer:**\n",
        "\n",
        "To start, it's important to remark that the objective function of the LASSO problem is similar to the objective function of the Exercice 2 of the Homework 2.\n",
        "\n",
        "Hence, we can wewrite the LASSO problem such as :\n",
        "\n",
        "$$\\min_{w} \\frac{1}{2}||z||_{2}^2+\\lambda||w||_{1}$$\n",
        "$$s.t. \\ z = Xw-y$$\n",
        "\n",
        "Now, the Lagrangian can be defined such as :  \n",
        "\n",
        "$$L(w, z, \\mu) = \\frac{1}{2}||z||_{2}^2+\\lambda||w||_{1} + \\mu^T(z+y-Xw)$$\n",
        "\n",
        "with $\\mu \\in \\mathbb{R}^n$.\n",
        "\n",
        "Then, it comes that :\n",
        "\n",
        "$$g(\\mu) = \\inf_{w,y} \\frac{1}{2}||z||_{2}^2+\\lambda||w||_{1} + \\mu^T(z+y-Xw)$$\n",
        "\n",
        "$$= \\inf_{y} \\ [\\frac{1}{2}||z||_{2}^2 + \\mu^Tz] + \\inf_{w} \\ [\\lambda||w||_{1}-\\mu^TXw] + \\mu^Ty$$\n",
        "\n",
        "$$= \\inf_{y} \\ [\\frac{1}{2}||z||_{2}^2 + \\mu^Tz] - \\lambda \\sup_{w} \\ [(\\frac{1}{\\lambda}X^T\\mu)^Tw-||w||_{1}] + \\mu^Ty$$\n",
        "\n",
        "Since $\\frac{1}{2}||z||_{2}^2 + \\mu^Tz$ is convex and 1-differentiable, we can show that :\n",
        "\n",
        "$$\\nabla_{z}(\\frac{1}{2}||z||_{2}^2 + \\mu^Tz)=z+\\mu$$\n",
        "\n",
        "Hence, $z^*$ solution of $z+\\mu=0$ if $z^*=-\\mu$ \n",
        "\n",
        "Moreover, we can use result of Exercice 2 of Homework 2 to show that :\n",
        "\n",
        "$$\\sup_{w} \\ [(\\frac{1}{\\lambda}X^T\\mu)^Tw-||w||_{1}] = \\left\\{\n",
        "    \\begin{array}{ll}\n",
        "        +∞ & \\mbox{if } ||\\frac{1}{\\lambda}X^T\\mu||_{∞} > 1\\\\\n",
        "        0 & \\mbox{otherwise.}\n",
        "    \\end{array}\n",
        "\\right.$$\n",
        "\n",
        "So finally, the dual of the LASSO problem can be written such as :\n",
        "\n",
        "$$\\max_{\\mu} \\ -\\frac{1}{2}||\\mu||_{2}^2 +\\mu^Ty$$\n",
        "$$s.t. ||\\frac{1}{\\lambda}X^T\\mu||_{∞} > 1$$\n",
        "\n",
        "Where the constraint can be rewritten such as :\n",
        "\n",
        "$$||\\frac{1}{\\lambda}X^T\\mu||_{∞} > 1$$ \n",
        "$$\\iff \\forall i \\in \\{1, .., n\\} \\ \\mbox{:} \\ (\\frac{1}{\\lambda}X^T\\mu)_{i} \\leq 1 \\ \\mbox{and} \\ (\\frac{1}{\\lambda}X^T\\mu)_{i} \\geq -1$$\n",
        "$$\\iff \\begin{pmatrix}\n",
        "X^T\\\\\n",
        "-X^T\n",
        "\\end{pmatrix}\\mu \\leq \\lambda 1_{2d}$$\n",
        "where $1_{2d} \\in \\mathbb{R}^{2d}$ such as $\\forall i \\in \\{1, .., d\\}$ : $(1_{2d})_{i}=1$\n",
        "\n",
        "So finally, the dual of the LASSO problem can be written such as :\n",
        "$$\\min_{\\mu} \\ \\frac{1}{2}\\mu^T\\mu -\\mu^Ty$$\n",
        "$$s.t \\ \\begin{pmatrix}\n",
        "X^T\\\\\n",
        "-X^T\n",
        "\\end{pmatrix}\\mu \\leq \\lambda 1_{2d}$$\n",
        "\n",
        "which corresponds to the quadratic form."
      ]
    },
    {
      "cell_type": "markdown",
      "metadata": {
        "id": "Tj4o7Kgub-7B"
      },
      "source": [
        "---\n",
        "# Question 2\n",
        "\n",
        "In the following parts, the objective is to implement the **Barrier method** to solive (QP).\n",
        "\n",
        "Inside the **Barrier method**, it's needed to implement the **Newton method** to to solve the **centering step**.\n",
        "\n",
        "Then, before implementing these methods, it's important to define the function which will be minimized in the Newton method and its gradient and its Hessian.\n",
        "\n",
        "With notations of the course (5_BarrierMethod, Slides 13), it can be defined :\n",
        "\n",
        "$$ g_{t}(v) = t(v^{t}Qv+p^{T}v) - \\sum_{i=1}^{2d}log(b_{i}-a_{i}^{T}v)$$\n",
        "\n",
        "where A =  \n",
        "  \\begin{pmatrix}\n",
        "    a_{1}^T &\\\\\n",
        "    a_{2}^T\\\\\n",
        "    ...\\\\\n",
        "    a_{2d}^T\n",
        "  \\end{pmatrix}\n",
        "\n",
        "with $\\forall i \\in \\{1, .., 2d\\} \\mbox{, } a_{i} \\in \\mathbb{R}^{n}$\n",
        "\n",
        "Hence, it comes that :\n",
        "\n",
        "$$\\nabla_{v}g_{t}(v)=2tQv+tp+\\sum_{i=1}^{2d}a_{i}(b_{i}-a_{i}^{T}v)^{-1}$$\n",
        "\n",
        "And also, it comes that :\n",
        "\n",
        "$$\\nabla_{v}^{2}g_{t}(v)=2tQ+\\sum_{i=1}^{2d}\\frac{a_{i}a_{i}^{T}}{(b_{i}-a_{i}^{T}v)^{2}}$$\n",
        "\n",
        "Now, to start, let's implement the function **centering_step**."
      ]
    },
    {
      "cell_type": "code",
      "execution_count": null,
      "metadata": {
        "id": "zktHLSDFZJSX"
      },
      "outputs": [],
      "source": [
        "# Import libraries\n",
        "import warnings\n",
        "import numpy as np\n",
        "import matplotlib.pyplot as plt\n",
        "from tqdm import tqdm\n",
        "\n",
        "# Hide warnings\n",
        "warnings.filterwarnings('ignore')\n",
        "warnings.simplefilter('ignore')"
      ]
    },
    {
      "cell_type": "code",
      "execution_count": null,
      "metadata": {
        "id": "QwaGVJHjYqqX"
      },
      "outputs": [],
      "source": [
        "# Compute value of g at v\n",
        "def value_g(Q, p, A, b, t, v):\n",
        "  '''\n",
        "    Value function of g at v with parameters of the problems.\n",
        "    Inputs:\n",
        "      Q, p, A, b (np.arrays): parameters of the problems.\n",
        "      v (np.array): where the function is evaluated.\n",
        "      t (int): parameter of the method.\n",
        "    Returns: \n",
        "    value (np.array): value of the function g at v.\n",
        "  '''\n",
        "\n",
        "  value = t*(v.T[np.newaxis] @ Q @ v + p.T[np.newaxis] @ v) - np.sum(np.log(b - A @ v))\n",
        "\n",
        "  return value[0]\n",
        "\n",
        "# Compute value of dual (QP) at v\n",
        "def value_dual(Q, p, v):\n",
        "  '''\n",
        "    Value of dual (QP) at v.\n",
        "    Inputs:\n",
        "      Q, p (np.arrays): parameters of the problem.\n",
        "      v (np.array): where the dual is evaluated.\n",
        "    Returns:\n",
        "      the value associated.\n",
        "  '''\n",
        "  \n",
        "  return v.T[np.newaxis] @ Q @ v + p.T[np.newaxis] @ v\n",
        "\n",
        "# Compute Gradiant of g at v\n",
        "def gradiant_g(Q, p, A, b, t, v):\n",
        "  '''\n",
        "    From given Q, p, A, b, v, t of the problem, returns the gradiant of g at v.\n",
        "    Inputs:\n",
        "      Q, p, A, b, v (np.arrays): parameters of the dual defined in Question 1.\n",
        "      t: barrier method parameter.\n",
        "    Returns:\n",
        "      gradiant_g (np.array): gradiant of g.\n",
        "  '''\n",
        "\n",
        "  gradiant_g = 2*t*(Q @ v) + t*p + np.sum( A * np.reciprocal(b - A @ v)[:, np.newaxis], axis=0)\n",
        "\n",
        "  return gradiant_g\n",
        "\n",
        "# Compute Hessian of g at v\n",
        "def hessian_g(Q, A, b, t, v):\n",
        "  '''\n",
        "    From given Q, A, b, v, t of the problem, returns the hessian of g at v.\n",
        "    Inputs:\n",
        "      Q, p, A, b, v (np.arrays): parameters of the dual defined in Question 1.\n",
        "      t: barrier method parameter.\n",
        "    Returns:\n",
        "      hessian_g (np.array): hessian of g.\n",
        "  '''\n",
        "\n",
        "  # Calculation of the sum apart to facilitate the code\n",
        "  sum_term = pow(b - A @ v, 2)\n",
        "  sum = A[0][np.newaxis].T @ A[0][np.newaxis] / sum_term[0]\n",
        "  # For each row of A, compute the a @ a.T and sum\n",
        "  for i in range(1, 2*d):\n",
        "    sum += A[i][np.newaxis].T @ A[i][np.newaxis] / sum_term[i]\n",
        "\n",
        "  hessian_g = 2*t*Q + sum\n",
        "\n",
        "  return hessian_g"
      ]
    },
    {
      "cell_type": "code",
      "execution_count": null,
      "metadata": {
        "id": "2lJjdKe6MtE7"
      },
      "outputs": [],
      "source": [
        "def line_search(v, dv, alpha=.5, beta=.9):\n",
        "  '''\n",
        "    Implements backtracking line search for the Newton method.\n",
        "    Inputs:\n",
        "      v, dv (np.arrays): points to evaluate the function, with delta.\n",
        "      alpha, beta (floats): parameters of the backtracking line search.\n",
        "    Returns:\n",
        "      t (float): step to use.\n",
        "    '''\n",
        "\n",
        "  # Initialize the stopping criterium, t\n",
        "  stopping_criterium = False\n",
        "  t = 1\n",
        "\n",
        "  while((not stopping_criterium) and (t>1e-6)):\n",
        "\n",
        "    objective_v = value_g(Q, p, A, b, t, v) # Value of g at v\n",
        "    objective_dv = value_g(Q, p, A, b, t, v+t*dv) # Value of g at v+dv\n",
        "    gradient_v = gradiant_g(Q, p, A, b, t, v) # Value of the gradiant of g at v\n",
        "\n",
        "    # Compute stopping criterium\n",
        "    criterion = objective_v + alpha*t*(gradient_v.T @ dv) \n",
        "    stopping_criterium = (objective_dv < criterion)\n",
        "\n",
        "    if np.any(b - A @ (v + t * dv) <= 0):\n",
        "      return t\n",
        "\n",
        "    # Update t\n",
        "    t = beta*t\n",
        "\n",
        "  return t"
      ]
    },
    {
      "cell_type": "code",
      "execution_count": null,
      "metadata": {
        "id": "spdVSvsadjGf"
      },
      "outputs": [],
      "source": [
        "def centering_step(Q, p, A, b, t, v0, eps, max_iter=500):\n",
        "  '''\n",
        "    Implements the Newton method to solve the centering step.\n",
        "    Inputs:\n",
        "      Q, p, A, b (np.arrays): parameters of the dual defined in Question 1.\n",
        "      t: barrier method parameter.\n",
        "      v0: initial variable.\n",
        "      eps: precision\n",
        "    Returns:\n",
        "      v (np.array): sequence of variable iterates.\n",
        "      nb_iter (int): number of iterations.\n",
        "  '''\n",
        "\n",
        "  nb_iter = 0 # number of iteration\n",
        "\n",
        "  # Initialize the stopping criterium, v and v_n\n",
        "  stopping_criterium = False\n",
        "  v = v0.copy() # Current v in the loop\n",
        "  v_n = [v0] # Sequence of all v\n",
        "\n",
        "  i = 0 # Count iteration\n",
        "  while((not stopping_criterium) & (i<max_iter)):\n",
        "\n",
        "    i +=1\n",
        "\n",
        "    # Compute the Newton step\n",
        "    grad_g, hess_g = gradiant_g(Q, p, A, b, t, v), hessian_g(Q, A, b, t, v)\n",
        "    delta_v = np.linalg.pinv(hess_g) @ grad_g\n",
        "    # Update t, then v\n",
        "    step = line_search(v, delta_v)\n",
        "    v = v-step*delta_v\n",
        "    v_n.append(v)\n",
        "    # Compute the decrement\n",
        "    lambda2 = grad_g.T @ delta_v\n",
        "\n",
        "    # Update stopping_criterium\n",
        "    stopping_criterium = (lambda2/2 <= eps)\n",
        "\n",
        "    nb_iter += 1 # incremente\n",
        "\n",
        "\n",
        "  return v_n, nb_iter"
      ]
    },
    {
      "cell_type": "code",
      "execution_count": null,
      "metadata": {
        "id": "8uHUQLzYoYDg"
      },
      "outputs": [],
      "source": [
        "def barr_method(Q, p, A, b, v0, eps, mu=2, t=1, max_iter=500):\n",
        "  '''\n",
        "    Implements the Barrier Method.\n",
        "    Inputs:\n",
        "      Q, p, A, b (np.arrays): parameters of the dual defined in Question 1.\n",
        "      v0: initial variable.\n",
        "      eps: precision\n",
        "    Returns:\n",
        "      v (np.array): sequence of variable iterates.\n",
        "      nb_iter (int): number of iterations.\n",
        "  '''\n",
        "\n",
        "  nb_iter = 0\n",
        "\n",
        "  # Initialize the stopping criterium, v and v_n\n",
        "  stopping_criterium = False\n",
        "  v = v0.copy() # Current v in the loop\n",
        "  v_n = [] # Sequence of all v\n",
        "\n",
        "  m = A.shape[0]\n",
        "\n",
        "  i = 0 # Count iteration\n",
        "  while((not stopping_criterium) & (i<max_iter)):\n",
        "\n",
        "    i += 1\n",
        "    v_n.append(v)\n",
        "\n",
        "    # Centering step, and update v\n",
        "    v_all, nb_iter_centerStep = centering_step(Q, p, A, b, t, v_n[-1], eps)\n",
        "    v = v_all[-1]\n",
        "\n",
        "    # Update stopping_criterium\n",
        "    stopping_criterium = (m/t < eps)\n",
        "\n",
        "    # Increase t\n",
        "    t = mu*t\n",
        "\n",
        "    nb_iter += nb_iter_centerStep\n",
        "\n",
        "  return v_n, nb_iter"
      ]
    },
    {
      "cell_type": "markdown",
      "metadata": {
        "id": "hovpj2iA_fsR"
      },
      "source": [
        "# Question 3\n",
        "\n",
        "Now that **centering_step** and **barr_method** are implemented, let's test these functions on randomly generated matrices X and observations y with $\\lambda = 10$."
      ]
    },
    {
      "cell_type": "code",
      "execution_count": null,
      "metadata": {
        "id": "GUK19jgn_tYc"
      },
      "outputs": [],
      "source": [
        "np.random.seed(2022)\n",
        "\n",
        "# Randomly initialize the problem\n",
        "def get_problem(n=4, d=3, lmbda=10):\n",
        "  '''\n",
        "    Initializes and compute parameters of the problem.\n",
        "    Inputs:\n",
        "      n, d : dimensions of matrixes.\n",
        "      mu, t: barrier method parameter\n",
        "      eps: precision criterium\n",
        "    Returns: \n",
        "      X, y, Q, p, A, b, v0, eps\n",
        "  '''\n",
        "  # Initialize parameters\n",
        "  v0 = np.zeros(n)\n",
        "  eps = 0.01\n",
        "\n",
        "\n",
        "  # Initialize matrixes\n",
        "  X = np.random.rand(n, d)\n",
        "  y = np.random.rand(n)\n",
        "\n",
        "  # Compute Q, p, A, b\n",
        "  Q = np.eye(n)/2\n",
        "  p = -y.copy()\n",
        "  A = np.concatenate([X.T, -X.T])\n",
        "  b = lmbda*np.ones(2*d)\n",
        "\n",
        "  return X, y, Q, p, A, b, v0"
      ]
    },
    {
      "cell_type": "markdown",
      "metadata": {
        "id": "XETktUkRUqwX"
      },
      "source": [
        "In the next cell, the calculation of the sequences for $v$ is done for different values of $\\mu$ : 2, 15, 50, 100, 250, 500 and 1000.\n",
        "\n",
        "Then for each of the obtained sequences, the associated dual value is calculated."
      ]
    },
    {
      "cell_type": "code",
      "execution_count": null,
      "metadata": {
        "colab": {
          "base_uri": "https://localhost:8080/"
        },
        "id": "dgRIe5wNbosZ",
        "outputId": "008f09ac-5401-49e3-a78a-70c6c9c3059f"
      },
      "outputs": [
        {
          "name": "stderr",
          "output_type": "stream",
          "text": [
            "100%|██████████| 7/7 [01:02<00:00,  8.94s/it]\n"
          ]
        }
      ],
      "source": [
        "np.random.seed(2022) # Fix seed\n",
        "\n",
        "# Get parameters of the problem for the \n",
        "n, d = 40, 50\n",
        "X, y, Q, p, A, b, v0 = get_problem(n, d)\n",
        "eps = 1e-9\n",
        "\n",
        "mu_to_try = [2, 15, 50, 100, 250, 500, 1000] # Different values to try for mu\n",
        "\n",
        "# List of results for different mu\n",
        "v_seq = []\n",
        "\n",
        "# Compute the sequence v for different values of mu\n",
        "for current_mu in tqdm( mu_to_try ):\n",
        "\n",
        "  # Call Barrier Method\n",
        "  v_current, nb_iter_current = barr_method(Q, p, A, b, v0, eps=eps, mu=current_mu, t=1)\n",
        "  v_seq.append(v_current)\n",
        "\n",
        "# Compute values of the dual for all of these sequences\n",
        "dual_values = [[value_dual(Q, p, v) for v in v_seq[i]] for i in range(len(v_seq))]"
      ]
    },
    {
      "cell_type": "markdown",
      "metadata": {
        "id": "eiKvs4zIjiqs"
      },
      "source": [
        "Once all sequences are obtained for the different $\\mu$ values tested, let's represent the gap $f(v)-f^{*}$ versus the number of iterations."
      ]
    },
    {
      "cell_type": "code",
      "execution_count": 124,
      "metadata": {
        "id": "R8rZuLtEgGhF",
        "colab": {
          "base_uri": "https://localhost:8080/",
          "height": 486
        },
        "outputId": "b8b2d1fd-8251-4a1a-dfa7-9f8c0f55762a"
      },
      "outputs": [
        {
          "output_type": "display_data",
          "data": {
            "text/plain": [
              "<Figure size 864x504 with 1 Axes>"
            ],
            "image/png": "[encoded data removed]"
          },
          "metadata": {
            "needs_background": "light"
          }
        }
      ],
      "source": [
        "plt.figure(figsize=(12,7))\n",
        "# Plot GAP vs ITERATIONS for each mu\n",
        "nb_iterations_list, objective = [], []\n",
        "\n",
        "# For each value of mu to try\n",
        "for mu in mu_to_try : \n",
        "    \n",
        "  # Get sequences v and number of iterations - Barrier Method\n",
        "  v_list , num_iter = barr_method(Q, p, A, b, v0, eps=eps, mu=mu, t=1)\n",
        "  nb_iterations_list.append(num_iter)\n",
        "  gap_list =[]\n",
        "\n",
        "  # Find the 'best' sequence to compute the gap (not necessary)\n",
        "  dv_min = np.infty\n",
        "  best_v = v_list[0]\n",
        "  for v in v_list:\n",
        "    if(value_dual(Q, p, v) < dv_min):\n",
        "      dv_min = value_dual(Q, p, v)\n",
        "      best_v = v\n",
        "\n",
        "  # For each sequence of all sequences\n",
        "  for v in v_list:\n",
        "\n",
        "    # Compute gap between the current sequence and the 'best one'\n",
        "    current_gap = value_dual(Q, p, v) - value_dual(Q, p, best_v)\n",
        "    gap_list.append(current_gap[0])\n",
        "      \n",
        "  # Plot the gap VS iteration\n",
        "  nb_iter = range(len(gap_list))\n",
        "  plt.step(nb_iter , gap_list)\n",
        "\n",
        "# Figure parameters   \n",
        "plt.semilogy();\n",
        "plt.xlabel('Number of outer iterations', fontsize=12); plt.ylabel('$f(v_t) - f^*$', fontsize=16);\n",
        "plt.title(f'Gap $f(v_t) - f^*$ VERSUS $\\\\mu$\\nwith precision criterium: {eps}', fontsize=14);\n",
        "plt.legend(['$\\mu = $' + str(x) for x in mu_to_try], loc='best');"
      ]
    },
    {
      "cell_type": "markdown",
      "metadata": {
        "id": "J2S0y8bQqabs"
      },
      "source": [
        "If $\\mu$ is small, there is a small number of steps per outer iterations but there's a large number of outer iterations. On the other hands, if $\\mu$ is large, there's less outer iterations but a larger number of steps per outer iterations.\n",
        "\n",
        "That's why the perfect value for $\\mu$ would be a tradeoff between these 2 criteriums. In the example above, 50 or 100 could be taken."
      ]
    },
    {
      "cell_type": "markdown",
      "metadata": {
        "id": "Gbd2TPwLoNL2"
      },
      "source": [
        "Finally, it is possible to study what would be the impact of $\\mu$ on $w$.\n",
        "\n",
        "Indeed, thanks to the KKT conditions applicable to the problem (LASSO), it comes that : $w=X^{-1}(y-v^{*})$.\n",
        "\n",
        "Ainsi, un dictionnaire est créé afin de calculer la distance entre les estimations de $w$ pour toutes les différentes valeurs de $\\mu$."
      ]
    },
    {
      "cell_type": "code",
      "execution_count": null,
      "metadata": {
        "colab": {
          "background_save": true
        },
        "id": "qCmvbPRJrSfl",
        "outputId": "900a4bf4-67ff-40ee-dbc8-683e3bdf44a5"
      },
      "outputs": [
        {
          "data": {
            "text/plain": [
              "{'2': {'2': 0.0,\n",
              "  '15': 6.8e-07,\n",
              "  '50': 7.7e-07,\n",
              "  '100': 5.8e-07,\n",
              "  '250': 6.6e-07,\n",
              "  '500': 8.6e-07,\n",
              "  '1000': 6.5e-07},\n",
              " '15': {'2': 6.8e-07,\n",
              "  '15': 0.0,\n",
              "  '50': 9.5e-07,\n",
              "  '100': 6.9e-07,\n",
              "  '250': 7.6e-07,\n",
              "  '500': 1.31e-06,\n",
              "  '1000': 7.5e-07},\n",
              " '50': {'2': 7.7e-07,\n",
              "  '15': 9.5e-07,\n",
              "  '50': 0.0,\n",
              "  '100': 3.9e-07,\n",
              "  '250': 2.8e-07,\n",
              "  '500': 1.17e-06,\n",
              "  '1000': 3.7e-07},\n",
              " '100': {'2': 5.8e-07,\n",
              "  '15': 6.9e-07,\n",
              "  '50': 3.9e-07,\n",
              "  '100': 0.0,\n",
              "  '250': 1.6e-07,\n",
              "  '500': 1.04e-06,\n",
              "  '1000': 2.5e-07},\n",
              " '250': {'2': 6.6e-07,\n",
              "  '15': 7.6e-07,\n",
              "  '50': 2.8e-07,\n",
              "  '100': 1.6e-07,\n",
              "  '250': 0.0,\n",
              "  '500': 1.11e-06,\n",
              "  '1000': 1.7e-07},\n",
              " '500': {'2': 8.6e-07,\n",
              "  '15': 1.31e-06,\n",
              "  '50': 1.17e-06,\n",
              "  '100': 1.04e-06,\n",
              "  '250': 1.11e-06,\n",
              "  '500': 0.0,\n",
              "  '1000': 1.14e-06},\n",
              " '1000': {'2': 6.5e-07,\n",
              "  '15': 7.5e-07,\n",
              "  '50': 3.7e-07,\n",
              "  '100': 2.5e-07,\n",
              "  '250': 1.7e-07,\n",
              "  '500': 1.14e-06,\n",
              "  '1000': 0.0}}"
            ]
          },
          "execution_count": 123,
          "metadata": {},
          "output_type": "execute_result"
        }
      ],
      "source": [
        "w_list = []\n",
        "\n",
        "# For each value of mu, compute an estimation of w\n",
        "for current_mu in mu_to_try:\n",
        "\n",
        "  # Get v from Barrier Method for each mu to try\n",
        "  v_list, _ = barr_method(Q, p, A, b, v0, eps=eps, mu=current_mu, t=1)\n",
        "  # Estimate w\n",
        "  w_current = np.dot(np.linalg.pinv(X), y - v_list[-1])\n",
        "  w_current = w_current / np.linalg.norm(w_current)\n",
        "  w_list.append(w_current)\n",
        "\n",
        "# Compute distances between estimations of w \n",
        "distances_w = {} # dict{mu1}{mu2}: distance between estimation of w with mu=mu1 and mu=mu2\n",
        "\n",
        "# For each values of (mu1, mu2)\n",
        "for i in range(len(mu_to_try)):\n",
        "  distances_w[str(mu_to_try[i])] = {}\n",
        "  for j in range(len(mu_to_try)):\n",
        "    # Compute distance\n",
        "    distances_w[str(mu_to_try[i])][str(mu_to_try[j])] = round(np.linalg.norm(w_list[i] - w_list[j]), 8)\n",
        "\n",
        "# Display the result\n",
        "distances_w"
      ]
    },
    {
      "cell_type": "markdown",
      "metadata": {
        "id": "KCxgVGtISfe_"
      },
      "source": [
        "###End of HW3. \n",
        "\n",
        "Thank you for reading !\n",
        "\n",
        "Théo Di Piazza.\n",
        "\n",
        "---"
      ]
    }
  ],
  "metadata": {
    "colab": {
      "provenance": []
    },
    "kernelspec": {
      "display_name": "Python 3",
      "name": "python3"
    },
    "language_info": {
      "name": "python"
    }
  },
  "nbformat": 4,
  "nbformat_minor": 0
}
{
 "cells": [
  {
   "cell_type": "markdown",
   "id": "c9b5b69e-782e-4b6c-811d-a201352239d4",
   "metadata": {},
   "source": [
    "# HW 3 Convex Optimisation"
   ]
  },
  {
   "cell_type": "markdown",
   "id": "68909321-58df-4602-8c4e-ff40f0c8fa9c",
   "metadata": {},
   "source": [
    "Quelques fonctions pour faciliter les résolutions :"
   ]
  },
  {
   "cell_type": "code",
   "execution_count": 18,
   "id": "843d7dab-44df-44ae-a05f-a98d30047567",
   "metadata": {},
   "outputs": [],
   "source": [
    "## Shape des variables\n",
    "\n",
    "# A --> R^n*2d\n",
    "# Q --> R^n**2\n",
    "# v, p --> R^n\n",
    "# b --> R^2n\n",
    "\n",
    "###\n",
    "\n",
    "import numpy as np\n",
    "\n",
    "def f(v, Q, p, b, A, t):\n",
    "\n",
    "\n",
    "    term1 = v.T @ Q @ v + p.T @ v\n",
    "    \n",
    "\n",
    "    term2 = np.sum(np.log(b - A.T @ v))\n",
    "    \n",
    "    return t * term1 - term2\n",
    "\n",
    "def grad_f(v, Q, p, b, A,t):\n",
    "\n",
    "    term1 = 2*Q @ v + p\n",
    "\n",
    "    term2 = -A @ (1 / (b - A.T @ v))\n",
    "\n",
    "\n",
    "    return  t - term1 + term2\n",
    "\n",
    "\n",
    "def hess_f(v, Q, b, A, t):\n",
    "    term1 = 2 * Q\n",
    "    weights = 1 / (b - A.T @ v)**2\n",
    "    term2 = A @ np.diag(weights) @ A.T\n",
    "    return t * term1 + term2\n",
    "\n",
    "\n",
    "    "
   ]
  },
  {
   "cell_type": "code",
   "execution_count": 73,
   "id": "7bd46144-90a5-49c6-8d65-816eab156827",
   "metadata": {},
   "outputs": [
    {
     "name": "stdout",
     "output_type": "stream",
     "text": [
      "Valeur de f(v0): -13.013321857011725\n",
      "Gradient de f(v0): [-0.13841534 -1.23570993  5.41317943]\n",
      "Hessienne de f(v0):\n",
      " [[ 9.92995002  1.5        -0.18809256]\n",
      " [ 1.5         9.03375723  0.6       ]\n",
      " [-0.18809256  0.6         3.03530125]]\n"
     ]
    }
   ],
   "source": [
    "import numpy as np\n",
    "\n",
    "# Paramètres\n",
    "n = 3  # Taille de v\n",
    "d = 2  # Dimensions auxiliaires\n",
    "\n",
    "# Matrice Q (symétrique définie positive de taille n x n)\n",
    "Q = np.array([\n",
    "    [2, 0.5, 0],\n",
    "    [0.5, 3, 0.2],\n",
    "    [0, 0.2, 1]\n",
    "])\n",
    "\n",
    "# Vecteur p (taille n)\n",
    "p = np.array([1, -2, 3])\n",
    "\n",
    "# Vecteur b (taille 2n)\n",
    "b = np.array([5, 6, 7, 8, 9, 100])\n",
    "\n",
    "# Matrice A (taille n x 2d)\n",
    "A = np.array([\n",
    "    [10, 0, 0.5, 0, -0.5, 0],\n",
    "    [0, 1, 0, 0.5, 0, -0.5],\n",
    "    [-0.5, 0, 1, 0, 0.5, 0]\n",
    "])\n",
    "\n",
    "# Vecteur v (taille n)\n",
    "v0 = np.array([0.01, 0.2, 0.3])\n",
    "\n",
    "# Scalaire t\n",
    "t = 1.5\n",
    "\n",
    "# Test des fonctions\n",
    "print(\"Valeur de f(v0):\", f(v0, Q, p, b, A, t))\n",
    "print(\"Gradient de f(v0):\", grad_f(v0, Q, p, b, A, t))\n",
    "print(\"Hessienne de f(v0):\\n\", hess_f(v0, Q, b, A, t))\n"
   ]
  },
  {
   "cell_type": "markdown",
   "id": "3df1ba7a-ffb6-4c2c-8d17-8d3db2b9ac24",
   "metadata": {},
   "source": [
    "## Question 2 :"
   ]
  },
  {
   "cell_type": "markdown",
   "id": "024c9ac7-6a3b-4b4d-a617-c2500d8fd143",
   "metadata": {},
   "source": [
    "a) Resolution avec Newton :"
   ]
  },
  {
   "cell_type": "code",
   "execution_count": 74,
   "id": "67515a79-3e5f-4a4d-9ec8-b8898de0f26a",
   "metadata": {},
   "outputs": [],
   "source": [
    "import numpy as np\n",
    "\n",
    "def f(v, Q, p, b, A, t):\n",
    "    term1 = v.T @ Q @ v + p.T @ v\n",
    "    term2 = np.sum(np.log(b - A.T @ v))\n",
    "    return t * term1 - term2\n",
    "\n",
    "def grad_f(v, Q, p, b, A, t):\n",
    "    term1 = 2 * Q @ v + p\n",
    "    term2 = -A @ (1 / (b - A.T @ v))\n",
    "    return t * term1 + term2   # verifier ce grad_f\n",
    "\n",
    "def hess_f(v, Q, b, A, t):\n",
    "    term1 = 2 * Q\n",
    "    weights = 1 / (b - A.T @ v)**2\n",
    "    term2 = A @ np.diag(weights.flatten()) @ A.T\n",
    "    return t * term1 + term2\n",
    "\n",
    "def newton_step(hess, grad):\n",
    "    return -np.linalg.solve(hess, grad)\n",
    "\n",
    "def decrement(hess, grad):\n",
    "    return grad.T @ np.linalg.solve(hess, grad)\n",
    "\n",
    "def backtracking_linesearch(f, grad_f, x, delta_x, Q, p, b, A, t, beta=0.5, alpha=1e-4):\n",
    "    t_step = 1.0\n",
    "    while f(x + t_step * delta_x, Q, p, b, A, t) > f(x, Q, p, b, A, t) + alpha * t_step * grad_f(x, Q, p, b, A, t).T @ delta_x:\n",
    "        t_step *= beta\n",
    "    return t_step\n",
    "\n",
    "def newton_solve(Q, p, b, A, t, f, grad_f, hess_f, x0, eps, max_iter):\n",
    "    x = x0\n",
    "    iter = 0\n",
    "    while True or iter >max_iter:\n",
    "        grad = grad_f(x, Q, p, b, A, t)\n",
    "        hess = hess_f(x, Q, b, A, t)\n",
    "\n",
    "        delta_xnt = newton_step(hess, grad)\n",
    "        lambda_2 = decrement(hess, grad)\n",
    "\n",
    "        if lambda_2 / 2 < eps:\n",
    "            break\n",
    "\n",
    "        step_size = backtracking_linesearch(f, grad_f, x, delta_xnt, Q, p, b, A, t, beta=0.5, alpha=1e-4)\n",
    "        x = x + step_size * delta_xnt\n",
    "        iter+=1\n",
    "    return x\n",
    "\n",
    "def centering_step(Q, p, b, A, t, f, grad_f, hess_f, v0, eps,max_iter):\n",
    "    return newton_solve(Q, p, b, A, t, f, grad_f, hess_f, v0, eps,max_iter)\n"
   ]
  },
  {
   "cell_type": "code",
   "execution_count": 77,
   "id": "7d1b58a5-e7d9-4cbf-b1a0-7de0241335cf",
   "metadata": {},
   "outputs": [
    {
     "ename": "KeyboardInterrupt",
     "evalue": "",
     "output_type": "error",
     "traceback": [
      "\u001b[1;31m---------------------------------------------------------------------------\u001b[0m",
      "\u001b[1;31mKeyboardInterrupt\u001b[0m                         Traceback (most recent call last)",
      "Cell \u001b[1;32mIn[77], line 1\u001b[0m\n\u001b[1;32m----> 1\u001b[0m v \u001b[38;5;241m=\u001b[39m \u001b[43mcentering_step\u001b[49m\u001b[43m(\u001b[49m\u001b[43mQ\u001b[49m\u001b[43m,\u001b[49m\u001b[43m \u001b[49m\u001b[43mp\u001b[49m\u001b[43m,\u001b[49m\u001b[43m \u001b[49m\u001b[43mb\u001b[49m\u001b[43m,\u001b[49m\u001b[43m \u001b[49m\u001b[43mA\u001b[49m\u001b[43m,\u001b[49m\u001b[43m \u001b[49m\u001b[43mt\u001b[49m\u001b[43m,\u001b[49m\u001b[43m \u001b[49m\u001b[43mf\u001b[49m\u001b[43m,\u001b[49m\u001b[43m \u001b[49m\u001b[43mgrad_f\u001b[49m\u001b[43m,\u001b[49m\u001b[43m \u001b[49m\u001b[43mhess_f\u001b[49m\u001b[43m,\u001b[49m\u001b[43m \u001b[49m\u001b[43mv0\u001b[49m\u001b[43m,\u001b[49m\u001b[43m \u001b[49m\u001b[38;5;241;43m1e-3\u001b[39;49m\u001b[43m,\u001b[49m\u001b[38;5;241;43m1000\u001b[39;49m\u001b[43m)\u001b[49m\n",
      "Cell \u001b[1;32mIn[74], line 50\u001b[0m, in \u001b[0;36mcentering_step\u001b[1;34m(Q, p, b, A, t, f, grad_f, hess_f, v0, eps, max_iter)\u001b[0m\n\u001b[0;32m     49\u001b[0m \u001b[38;5;28;01mdef\u001b[39;00m \u001b[38;5;21mcentering_step\u001b[39m(Q, p, b, A, t, f, grad_f, hess_f, v0, eps,max_iter):\n\u001b[1;32m---> 50\u001b[0m     \u001b[38;5;28;01mreturn\u001b[39;00m \u001b[43mnewton_solve\u001b[49m\u001b[43m(\u001b[49m\u001b[43mQ\u001b[49m\u001b[43m,\u001b[49m\u001b[43m \u001b[49m\u001b[43mp\u001b[49m\u001b[43m,\u001b[49m\u001b[43m \u001b[49m\u001b[43mb\u001b[49m\u001b[43m,\u001b[49m\u001b[43m \u001b[49m\u001b[43mA\u001b[49m\u001b[43m,\u001b[49m\u001b[43m \u001b[49m\u001b[43mt\u001b[49m\u001b[43m,\u001b[49m\u001b[43m \u001b[49m\u001b[43mf\u001b[49m\u001b[43m,\u001b[49m\u001b[43m \u001b[49m\u001b[43mgrad_f\u001b[49m\u001b[43m,\u001b[49m\u001b[43m \u001b[49m\u001b[43mhess_f\u001b[49m\u001b[43m,\u001b[49m\u001b[43m \u001b[49m\u001b[43mv0\u001b[49m\u001b[43m,\u001b[49m\u001b[43m \u001b[49m\u001b[43meps\u001b[49m\u001b[43m,\u001b[49m\u001b[43mmax_iter\u001b[49m\u001b[43m)\u001b[49m\n",
      "Cell \u001b[1;32mIn[74], line 44\u001b[0m, in \u001b[0;36mnewton_solve\u001b[1;34m(Q, p, b, A, t, f, grad_f, hess_f, x0, eps, max_iter)\u001b[0m\n\u001b[0;32m     41\u001b[0m \u001b[38;5;28;01mif\u001b[39;00m lambda_2 \u001b[38;5;241m/\u001b[39m \u001b[38;5;241m2\u001b[39m \u001b[38;5;241m<\u001b[39m eps:\n\u001b[0;32m     42\u001b[0m     \u001b[38;5;28;01mbreak\u001b[39;00m\n\u001b[1;32m---> 44\u001b[0m step_size \u001b[38;5;241m=\u001b[39m \u001b[43mbacktracking_linesearch\u001b[49m\u001b[43m(\u001b[49m\u001b[43mf\u001b[49m\u001b[43m,\u001b[49m\u001b[43m \u001b[49m\u001b[43mgrad_f\u001b[49m\u001b[43m,\u001b[49m\u001b[43m \u001b[49m\u001b[43mx\u001b[49m\u001b[43m,\u001b[49m\u001b[43m \u001b[49m\u001b[43mdelta_xnt\u001b[49m\u001b[43m,\u001b[49m\u001b[43m \u001b[49m\u001b[43mQ\u001b[49m\u001b[43m,\u001b[49m\u001b[43m \u001b[49m\u001b[43mp\u001b[49m\u001b[43m,\u001b[49m\u001b[43m \u001b[49m\u001b[43mb\u001b[49m\u001b[43m,\u001b[49m\u001b[43m \u001b[49m\u001b[43mA\u001b[49m\u001b[43m,\u001b[49m\u001b[43m \u001b[49m\u001b[43mt\u001b[49m\u001b[43m,\u001b[49m\u001b[43m \u001b[49m\u001b[43mbeta\u001b[49m\u001b[38;5;241;43m=\u001b[39;49m\u001b[38;5;241;43m0.5\u001b[39;49m\u001b[43m,\u001b[49m\u001b[43m \u001b[49m\u001b[43malpha\u001b[49m\u001b[38;5;241;43m=\u001b[39;49m\u001b[38;5;241;43m1e-4\u001b[39;49m\u001b[43m)\u001b[49m\n\u001b[0;32m     45\u001b[0m x \u001b[38;5;241m=\u001b[39m x \u001b[38;5;241m+\u001b[39m step_size \u001b[38;5;241m*\u001b[39m delta_xnt\n\u001b[0;32m     46\u001b[0m \u001b[38;5;28miter\u001b[39m\u001b[38;5;241m+\u001b[39m\u001b[38;5;241m=\u001b[39m\u001b[38;5;241m1\u001b[39m\n",
      "Cell \u001b[1;32mIn[74], line 27\u001b[0m, in \u001b[0;36mbacktracking_linesearch\u001b[1;34m(f, grad_f, x, delta_x, Q, p, b, A, t, beta, alpha)\u001b[0m\n\u001b[0;32m     25\u001b[0m \u001b[38;5;28;01mdef\u001b[39;00m \u001b[38;5;21mbacktracking_linesearch\u001b[39m(f, grad_f, x, delta_x, Q, p, b, A, t, beta\u001b[38;5;241m=\u001b[39m\u001b[38;5;241m0.5\u001b[39m, alpha\u001b[38;5;241m=\u001b[39m\u001b[38;5;241m1e-4\u001b[39m):\n\u001b[0;32m     26\u001b[0m     t_step \u001b[38;5;241m=\u001b[39m \u001b[38;5;241m1.0\u001b[39m\n\u001b[1;32m---> 27\u001b[0m     \u001b[38;5;28;01mwhile\u001b[39;00m \u001b[43mf\u001b[49m\u001b[43m(\u001b[49m\u001b[43mx\u001b[49m\u001b[43m \u001b[49m\u001b[38;5;241;43m+\u001b[39;49m\u001b[43m \u001b[49m\u001b[43mt_step\u001b[49m\u001b[43m \u001b[49m\u001b[38;5;241;43m*\u001b[39;49m\u001b[43m \u001b[49m\u001b[43mdelta_x\u001b[49m\u001b[43m,\u001b[49m\u001b[43m \u001b[49m\u001b[43mQ\u001b[49m\u001b[43m,\u001b[49m\u001b[43m \u001b[49m\u001b[43mp\u001b[49m\u001b[43m,\u001b[49m\u001b[43m \u001b[49m\u001b[43mb\u001b[49m\u001b[43m,\u001b[49m\u001b[43m \u001b[49m\u001b[43mA\u001b[49m\u001b[43m,\u001b[49m\u001b[43m \u001b[49m\u001b[43mt\u001b[49m\u001b[43m)\u001b[49m \u001b[38;5;241m>\u001b[39m f(x, Q, p, b, A, t) \u001b[38;5;241m+\u001b[39m alpha \u001b[38;5;241m*\u001b[39m t_step \u001b[38;5;241m*\u001b[39m grad_f(x, Q, p, b, A, t)\u001b[38;5;241m.\u001b[39mT \u001b[38;5;241m@\u001b[39m delta_x:\n\u001b[0;32m     28\u001b[0m         t_step \u001b[38;5;241m*\u001b[39m\u001b[38;5;241m=\u001b[39m beta\n\u001b[0;32m     29\u001b[0m     \u001b[38;5;28;01mreturn\u001b[39;00m t_step\n",
      "Cell \u001b[1;32mIn[74], line 5\u001b[0m, in \u001b[0;36mf\u001b[1;34m(v, Q, p, b, A, t)\u001b[0m\n\u001b[0;32m      3\u001b[0m \u001b[38;5;28;01mdef\u001b[39;00m \u001b[38;5;21mf\u001b[39m(v, Q, p, b, A, t):\n\u001b[0;32m      4\u001b[0m     term1 \u001b[38;5;241m=\u001b[39m v\u001b[38;5;241m.\u001b[39mT \u001b[38;5;241m@\u001b[39m Q \u001b[38;5;241m@\u001b[39m v \u001b[38;5;241m+\u001b[39m p\u001b[38;5;241m.\u001b[39mT \u001b[38;5;241m@\u001b[39m v\n\u001b[1;32m----> 5\u001b[0m     term2 \u001b[38;5;241m=\u001b[39m np\u001b[38;5;241m.\u001b[39msum(\u001b[43mnp\u001b[49m\u001b[38;5;241;43m.\u001b[39;49m\u001b[43mlog\u001b[49m\u001b[43m(\u001b[49m\u001b[43mb\u001b[49m\u001b[43m \u001b[49m\u001b[38;5;241;43m-\u001b[39;49m\u001b[43m \u001b[49m\u001b[43mA\u001b[49m\u001b[38;5;241;43m.\u001b[39;49m\u001b[43mT\u001b[49m\u001b[43m \u001b[49m\u001b[38;5;241;43m@\u001b[39;49m\u001b[43m \u001b[49m\u001b[43mv\u001b[49m\u001b[43m)\u001b[49m)\n\u001b[0;32m      6\u001b[0m     \u001b[38;5;28;01mreturn\u001b[39;00m t \u001b[38;5;241m*\u001b[39m term1 \u001b[38;5;241m-\u001b[39m term2\n",
      "\u001b[1;31mKeyboardInterrupt\u001b[0m: "
     ]
    }
   ],
   "source": [
    "v = centering_step(Q, p, b, A, t, f, grad_f, hess_f, v0, 1e-3,1000)"
   ]
  },
  {
   "cell_type": "code",
   "execution_count": 76,
   "id": "8c695dc6-a3b0-40bf-b5f0-a86ade0e0bf1",
   "metadata": {},
   "outputs": [
    {
     "data": {
      "text/plain": [
       "array([-0.05159547,  0.4692537 , -1.54044905])"
      ]
     },
     "execution_count": 76,
     "metadata": {},
     "output_type": "execute_result"
    }
   ],
   "source": [
    "v"
   ]
  },
  {
   "cell_type": "code",
   "execution_count": null,
   "id": "d85e37a1-60ff-4560-b541-d693b6f74643",
   "metadata": {},
   "outputs": [],
   "source": []
  }
 ],
 "metadata": {
  "kernelspec": {
   "display_name": "Python 3 (ipykernel)",
   "language": "python",
   "name": "python3"
  },
  "language_info": {
   "codemirror_mode": {
    "name": "ipython",
    "version": 3
   },
   "file_extension": ".py",
   "mimetype": "text/x-python",
   "name": "python",
   "nbconvert_exporter": "python",
   "pygments_lexer": "ipython3",
   "version": "3.12.7"
  }
 },
 "nbformat": 4,
 "nbformat_minor": 5
}

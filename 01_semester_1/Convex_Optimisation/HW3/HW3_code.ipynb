{
 "cells": [
  {
   "cell_type": "markdown",
   "id": "c9b5b69e-782e-4b6c-811d-a201352239d4",
   "metadata": {},
   "source": [
    "# HW 3 Convex Optimisation"
   ]
  },
  {
   "cell_type": "markdown",
   "id": "68909321-58df-4602-8c4e-ff40f0c8fa9c",
   "metadata": {},
   "source": [
    "Quelques fonctions pour faciliter les résolutions :"
   ]
  },
  {
   "cell_type": "code",
   "execution_count": 25,
   "id": "843d7dab-44df-44ae-a05f-a98d30047567",
   "metadata": {},
   "outputs": [],
   "source": [
    "## Shape des variables\n",
    "\n",
    "# A --> R^n*2d\n",
    "# Q --> R^n**2\n",
    "# v, p --> R^n\n",
    "# b --> R^2n\n",
    "\n",
    "###\n",
    "\n",
    "import numpy as np\n",
    "import cvxpy as cp\n",
    "\n"
   ]
  },
  {
   "cell_type": "markdown",
   "id": "3df1ba7a-ffb6-4c2c-8d17-8d3db2b9ac24",
   "metadata": {},
   "source": [
    "## Question 2 :"
   ]
  },
  {
   "cell_type": "markdown",
   "id": "024c9ac7-6a3b-4b4d-a617-c2500d8fd143",
   "metadata": {},
   "source": [
    "a) Resolution avec Newton :"
   ]
  },
  {
   "cell_type": "code",
   "execution_count": 55,
   "id": "67515a79-3e5f-4a4d-9ec8-b8898de0f26a",
   "metadata": {},
   "outputs": [],
   "source": [
    "import numpy as np\n",
    "\n",
    "def centering_step(Q, p, b, A, t, v0, eps, max_iter):\n",
    "    \"\"\"\n",
    "    Arguments:\n",
    "    Q -- Matrice définissant le terme quadratique dans l'objectif.\n",
    "    p -- Vecteur définissant le terme linéaire dans l'objectif.\n",
    "    b -- Vecteur des bornes pour les contraintes.\n",
    "    A -- Matrice des coefficients des contraintes.\n",
    "    t -- Paramètre d'échelle de la barrière logarithmique.\n",
    "    v0 -- Point de départ pour l'algorithme.\n",
    "    eps -- Tolérance pour le critère d'arrêt.\n",
    "    max_iter -- Nombre maximal d'itérations autorisé.\n",
    "\n",
    "    Retourne:\n",
    "    v -- Solution optimale trouvée.\n",
    "    \"\"\"\n",
    "\n",
    "    def f(v, Q, p, b, A, t):\n",
    "        term1 = v.T @ Q @ v + p.T @ v\n",
    "        term2 = np.sum(np.log(b - A.T @ v))\n",
    "        return t * term1 - term2\n",
    "\n",
    "    def grad_f(v, Q, p, b, A, t):\n",
    "        return t * (2 * Q @ v + p) + ((1 / (b - A.T @ v)).T @ A).T\n",
    "\n",
    "    def hess_f(v, Q, b, A, t):\n",
    "        diag_vals = 1 / (b - A.T @ v)**2\n",
    "        return 2 * t * Q + A @ np.diag(diag_vals) @ A.T\n",
    "\n",
    "    def newton_step(hess, grad):\n",
    "        return -np.linalg.solve(hess, grad)\n",
    "\n",
    "    def decrement(hess, grad):\n",
    "        return grad.T @ np.linalg.solve(hess, grad)\n",
    "\n",
    "    def backtracking_linesearch(v, delta_v):\n",
    "        beta = 0.5\n",
    "        alpha = 1e-4\n",
    "        t_step = 1.0\n",
    "        while f(v + t_step * delta_v, Q, p, b, A, t) > f(v, Q, p, b, A, t) + alpha * t_step * grad_f(v, Q, p, b, A, t).T @ delta_v:\n",
    "            t_step *= beta\n",
    "        return t_step\n",
    "\n",
    "    # Initialisation\n",
    "    v = v0\n",
    "    iter_count = 0\n",
    "\n",
    "    while iter_count < max_iter:\n",
    "        grad = grad_f(v, Q, p, b, A, t)\n",
    "        hess = hess_f(v, Q, b, A, t)\n",
    "\n",
    "        delta_v = newton_step(hess, grad)\n",
    "        lambda_2 = decrement(hess, grad)\n",
    "\n",
    "        if lambda_2 / 2 < eps:\n",
    "            break\n",
    "\n",
    "        step_size = backtracking_linesearch(v, delta_v)\n",
    "        v = v + step_size * delta_v\n",
    "        iter_count += 1\n",
    "\n",
    "    return v\n"
   ]
  },
  {
   "cell_type": "code",
   "execution_count": 60,
   "id": "3d630ccc-fd60-4ef0-96ce-ab411561957d",
   "metadata": {},
   "outputs": [],
   "source": [
    "def barr_method(Q, p, A, b, v0, eps, mu=10, max_iter=100):\n",
    "    \"\"\"\n",
    "    Méthode de barrière pour résoudre un problème d'optimisation quadratique avec contraintes.\n",
    "\n",
    "    Arguments:\n",
    "    Q -- Matrice définissant le terme quadratique dans l'objectif.\n",
    "    p -- Vecteur définissant le terme linéaire dans l'objectif.\n",
    "    A -- Matrice des coefficients des contraintes.\n",
    "    b -- Vecteur des bornes pour les contraintes.\n",
    "    v0 -- Point de départ pour l'algorithme.\n",
    "    eps -- Tolérance pour le critère d'arrêt.\n",
    "    mu -- Facteur d'augmentation du paramètre t.\n",
    "    max_iter -- Nombre maximal d'itérations autorisé.\n",
    "\n",
    "    Retourne:\n",
    "    v_seq -- Séquence des solutions trouvées à chaque itération.\n",
    "    prec_criterion -- Liste des critères de précision calculés.\n",
    "    \"\"\"\n",
    "\n",
    "    # Initialisation du paramètre t\n",
    "    t = 1\n",
    "\n",
    "    # Historique des solutions et du critère de précision\n",
    "    v_seq = []\n",
    "    prec_criterion = []\n",
    "\n",
    "    for _ in range(max_iter):\n",
    "        # 1. Étape de centrage en utilisant la méthode de Newton\n",
    "        v = centering_step(Q, p, b, A, t, v0, eps, max_iter)\n",
    "        v_seq.append(v)\n",
    "        \n",
    "        # 2. Mise à jour du point de départ\n",
    "        v0 = v\n",
    "\n",
    "        # 3. Calcul du critère de précision\n",
    "        current_prec = A.shape[0] / t\n",
    "        prec_criterion.append(current_prec)\n",
    "\n",
    "        # 4. Critère d'arrêt\n",
    "        if current_prec < eps:\n",
    "            break\n",
    "\n",
    "        # 5. Augmenter t pour rendre la barrière plus contraignante\n",
    "        t *= mu\n",
    "\n",
    "    return v_seq, prec_criterion\n"
   ]
  },
  {
   "cell_type": "markdown",
   "id": "4a9af12d-c53b-4759-86c4-abc60c76d476",
   "metadata": {},
   "source": [
    "## Question 3 :"
   ]
  },
  {
   "cell_type": "code",
   "execution_count": 61,
   "id": "9120cac9-7486-4f22-80b8-4591c92bd01b",
   "metadata": {},
   "outputs": [
    {
     "ename": "ValueError",
     "evalue": "matmul: Input operand 1 has a mismatch in its core dimension 0, with gufunc signature (n?,k),(k,m?)->(n?,m?) (size 40 is different from 100)",
     "output_type": "error",
     "traceback": [
      "\u001b[1;31m---------------------------------------------------------------------------\u001b[0m",
      "\u001b[1;31mValueError\u001b[0m                                Traceback (most recent call last)",
      "Cell \u001b[1;32mIn[61], line 32\u001b[0m\n\u001b[0;32m     28\u001b[0m gap \u001b[38;5;241m=\u001b[39m []\n\u001b[0;32m     30\u001b[0m \u001b[38;5;28;01mfor\u001b[39;00m mu \u001b[38;5;129;01min\u001b[39;00m mus:\n\u001b[0;32m     31\u001b[0m     \u001b[38;5;66;03m# Résolution avec la méthode de barrière\u001b[39;00m\n\u001b[1;32m---> 32\u001b[0m     v_seq, prec \u001b[38;5;241m=\u001b[39m \u001b[43mbarr_method\u001b[49m\u001b[43m(\u001b[49m\u001b[43mQ\u001b[49m\u001b[43m,\u001b[49m\u001b[43m \u001b[49m\u001b[43mp\u001b[49m\u001b[43m,\u001b[49m\u001b[43m \u001b[49m\u001b[43mA\u001b[49m\u001b[43m,\u001b[49m\u001b[43m \u001b[49m\u001b[43mb\u001b[49m\u001b[43m,\u001b[49m\u001b[43m \u001b[49m\u001b[43mv0\u001b[49m\u001b[43m,\u001b[49m\u001b[43m \u001b[49m\u001b[43meps\u001b[49m\u001b[43m,\u001b[49m\u001b[43m \u001b[49m\u001b[43mmu\u001b[49m\u001b[38;5;241;43m=\u001b[39;49m\u001b[43mmu\u001b[49m\u001b[43m)\u001b[49m\n\u001b[0;32m     33\u001b[0m     prec_criterion\u001b[38;5;241m.\u001b[39mappend(prec)\n\u001b[0;32m     35\u001b[0m     \u001b[38;5;66;03m# Calculer le gap\u001b[39;00m\n",
      "Cell \u001b[1;32mIn[60], line 29\u001b[0m, in \u001b[0;36mbarr_method\u001b[1;34m(Q, p, A, b, v0, eps, mu, max_iter)\u001b[0m\n\u001b[0;32m     25\u001b[0m prec_criterion \u001b[38;5;241m=\u001b[39m []\n\u001b[0;32m     27\u001b[0m \u001b[38;5;28;01mfor\u001b[39;00m _ \u001b[38;5;129;01min\u001b[39;00m \u001b[38;5;28mrange\u001b[39m(max_iter):\n\u001b[0;32m     28\u001b[0m     \u001b[38;5;66;03m# 1. Étape de centrage en utilisant la méthode de Newton\u001b[39;00m\n\u001b[1;32m---> 29\u001b[0m     v \u001b[38;5;241m=\u001b[39m \u001b[43mcentering_step\u001b[49m\u001b[43m(\u001b[49m\u001b[43mQ\u001b[49m\u001b[43m,\u001b[49m\u001b[43m \u001b[49m\u001b[43mp\u001b[49m\u001b[43m,\u001b[49m\u001b[43m \u001b[49m\u001b[43mb\u001b[49m\u001b[43m,\u001b[49m\u001b[43m \u001b[49m\u001b[43mA\u001b[49m\u001b[43m,\u001b[49m\u001b[43m \u001b[49m\u001b[43mt\u001b[49m\u001b[43m,\u001b[49m\u001b[43m \u001b[49m\u001b[43mv0\u001b[49m\u001b[43m,\u001b[49m\u001b[43m \u001b[49m\u001b[43meps\u001b[49m\u001b[43m,\u001b[49m\u001b[43m \u001b[49m\u001b[43mmax_iter\u001b[49m\u001b[43m)\u001b[49m\n\u001b[0;32m     30\u001b[0m     v_seq\u001b[38;5;241m.\u001b[39mappend(v)\n\u001b[0;32m     32\u001b[0m     \u001b[38;5;66;03m# 2. Mise à jour du point de départ\u001b[39;00m\n",
      "Cell \u001b[1;32mIn[55], line 50\u001b[0m, in \u001b[0;36mcentering_step\u001b[1;34m(Q, p, b, A, t, v0, eps, max_iter)\u001b[0m\n\u001b[0;32m     47\u001b[0m iter_count \u001b[38;5;241m=\u001b[39m \u001b[38;5;241m0\u001b[39m\n\u001b[0;32m     49\u001b[0m \u001b[38;5;28;01mwhile\u001b[39;00m iter_count \u001b[38;5;241m<\u001b[39m max_iter:\n\u001b[1;32m---> 50\u001b[0m     grad \u001b[38;5;241m=\u001b[39m \u001b[43mgrad_f\u001b[49m\u001b[43m(\u001b[49m\u001b[43mv\u001b[49m\u001b[43m,\u001b[49m\u001b[43m \u001b[49m\u001b[43mQ\u001b[49m\u001b[43m,\u001b[49m\u001b[43m \u001b[49m\u001b[43mp\u001b[49m\u001b[43m,\u001b[49m\u001b[43m \u001b[49m\u001b[43mb\u001b[49m\u001b[43m,\u001b[49m\u001b[43m \u001b[49m\u001b[43mA\u001b[49m\u001b[43m,\u001b[49m\u001b[43m \u001b[49m\u001b[43mt\u001b[49m\u001b[43m)\u001b[49m\n\u001b[0;32m     51\u001b[0m     hess \u001b[38;5;241m=\u001b[39m hess_f(v, Q, b, A, t)\n\u001b[0;32m     53\u001b[0m     delta_v \u001b[38;5;241m=\u001b[39m newton_step(hess, grad)\n",
      "Cell \u001b[1;32mIn[55], line 25\u001b[0m, in \u001b[0;36mcentering_step.<locals>.grad_f\u001b[1;34m(v, Q, p, b, A, t)\u001b[0m\n\u001b[0;32m     24\u001b[0m \u001b[38;5;28;01mdef\u001b[39;00m \u001b[38;5;21mgrad_f\u001b[39m(v, Q, p, b, A, t):\n\u001b[1;32m---> 25\u001b[0m     \u001b[38;5;28;01mreturn\u001b[39;00m t \u001b[38;5;241m*\u001b[39m (\u001b[38;5;241m2\u001b[39m \u001b[38;5;241m*\u001b[39m Q \u001b[38;5;241m@\u001b[39m v \u001b[38;5;241m+\u001b[39m p) \u001b[38;5;241m+\u001b[39m ((\u001b[38;5;241m1\u001b[39m \u001b[38;5;241m/\u001b[39m (b \u001b[38;5;241m-\u001b[39m \u001b[43mA\u001b[49m\u001b[38;5;241;43m.\u001b[39;49m\u001b[43mT\u001b[49m\u001b[43m \u001b[49m\u001b[38;5;241;43m@\u001b[39;49m\u001b[43m \u001b[49m\u001b[43mv\u001b[49m))\u001b[38;5;241m.\u001b[39mT \u001b[38;5;241m@\u001b[39m A)\u001b[38;5;241m.\u001b[39mT\n",
      "\u001b[1;31mValueError\u001b[0m: matmul: Input operand 1 has a mismatch in its core dimension 0, with gufunc signature (n?,k),(k,m?)->(n?,m?) (size 40 is different from 100)"
     ]
    }
   ],
   "source": [
    "import numpy as np\n",
    "import matplotlib.pyplot as plt\n",
    "\n",
    "# Générer des données aléatoires pour X et y\n",
    "n = 40\n",
    "d = 50\n",
    "np.random.seed(0)  # Fixer la graine pour des résultats reproductibles\n",
    "X = np.random.rand(n, d)\n",
    "y = np.random.rand(n)\n",
    "\n",
    "# Fixer epsilon\n",
    "eps = 1e-8\n",
    "\n",
    "# Fixer les variables selon la question 1\n",
    "A = np.concatenate([X, -X], axis=1).T\n",
    "Q = np.eye(n) * 0.5\n",
    "p = -y\n",
    "b = 10 * np.ones(2 * d)  # Lambda = 10\n",
    "\n",
    "# Variable initiale\n",
    "v0 = np.zeros(n)\n",
    "\n",
    "# Différentes valeurs de mu\n",
    "mus = [2, 15, 50, 100, 250, 500, 1000]\n",
    "\n",
    "# Listes pour stocker les résultats\n",
    "prec_criterion = []\n",
    "gap = []\n",
    "\n",
    "for mu in mus:\n",
    "    # Résolution avec la méthode de barrière\n",
    "    v_seq, prec = barr_method(Q, p, A, b, v0, eps, mu=mu)\n",
    "    prec_criterion.append(prec)\n",
    "    \n",
    "    # Calculer le gap\n",
    "    v = [v_it for v_it in v_seq]  # Extraire les solutions intermédiaires\n",
    "    v_opt = v_seq[-1]  # Solution optimale après la dernière itération\n",
    "    g_opt = v_opt.T @ Q @ v_opt + p.T @ v_opt  # Calculer le coût optimal\n",
    "\n",
    "    # Calcul des gaps pour toutes les solutions intermédiaires\n",
    "    gap.append([v_i.T @ Q @ v_i + p.T @ v_i - g_opt for v_i in v[:-1]])\n",
    "\n",
    "# Tracer les résultats\n",
    "plt.figure(figsize=(12, 6))\n",
    "\n",
    "# Précision en fonction de mu\n",
    "for i, prec in enumerate(prec_criterion):\n",
    "    plt.plot(range(len(prec)), prec, label=f'mu = {mus[i]}')\n",
    "plt.xlabel('Iterations')\n",
    "plt.ylabel('Precision Criterion')\n",
    "plt.title('Precision Criterion vs Iterations for Different mu')\n",
    "plt.legend()\n",
    "plt.show()\n",
    "\n",
    "# Gap en fonction de mu\n",
    "plt.figure(figsize=(12, 6))\n",
    "for i, g in enumerate(gap):\n",
    "    plt.plot(range(len(g)), g, label=f'mu = {mus[i]}')\n",
    "plt.xlabel('Iterations')\n",
    "plt.ylabel('Gap')\n",
    "plt.title('Gap vs Iterations for Different mu')\n",
    "plt.legend()\n",
    "plt.show()\n"
   ]
  },
  {
   "cell_type": "code",
   "execution_count": 43,
   "id": "7d1b58a5-e7d9-4cbf-b1a0-7de0241335cf",
   "metadata": {},
   "outputs": [],
   "source": [
    "v = centering_step(Q, p, b, A, t, f, grad_f, hess_f, v0, 1e-6,1000)"
   ]
  },
  {
   "cell_type": "code",
   "execution_count": 32,
   "id": "c3728484-8045-4f33-bb10-a206fdefd3b4",
   "metadata": {},
   "outputs": [
    {
     "name": "stdout",
     "output_type": "stream",
     "text": [
      "Iteration: 1, t: 0.1\n"
     ]
    },
    {
     "ename": "TypeError",
     "evalue": "centering_step() missing 4 required positional arguments: 'hess_f', 'v0', 'eps', and 'max_iter'",
     "output_type": "error",
     "traceback": [
      "\u001b[1;31m---------------------------------------------------------------------------\u001b[0m",
      "\u001b[1;31mTypeError\u001b[0m                                 Traceback (most recent call last)",
      "Cell \u001b[1;32mIn[32], line 1\u001b[0m\n\u001b[1;32m----> 1\u001b[0m \u001b[43mbarrier_method\u001b[49m\u001b[43m(\u001b[49m\u001b[43mQ\u001b[49m\u001b[43m,\u001b[49m\u001b[43m \u001b[49m\u001b[43mp\u001b[49m\u001b[43m,\u001b[49m\u001b[43m \u001b[49m\u001b[43mb\u001b[49m\u001b[43m,\u001b[49m\u001b[43m \u001b[49m\u001b[43mA\u001b[49m\u001b[43m,\u001b[49m\u001b[43m \u001b[49m\u001b[43mv0\u001b[49m\u001b[43m,\u001b[49m\u001b[43m \u001b[49m\u001b[43meps\u001b[49m\u001b[38;5;241;43m=\u001b[39;49m\u001b[38;5;241;43m1e-6\u001b[39;49m\u001b[43m,\u001b[49m\u001b[43m \u001b[49m\u001b[43mmu\u001b[49m\u001b[38;5;241;43m=\u001b[39;49m\u001b[38;5;241;43m30\u001b[39;49m\u001b[43m)\u001b[49m\n",
      "Cell \u001b[1;32mIn[31], line 60\u001b[0m, in \u001b[0;36mbarrier_method\u001b[1;34m(Q, p, b, A, v0, eps, mu)\u001b[0m\n\u001b[0;32m     57\u001b[0m \u001b[38;5;28;01mwhile\u001b[39;00m b\u001b[38;5;241m.\u001b[39mshape[\u001b[38;5;241m0\u001b[39m] \u001b[38;5;241m/\u001b[39m t \u001b[38;5;241m>\u001b[39m\u001b[38;5;241m=\u001b[39m eps:\n\u001b[0;32m     59\u001b[0m     \u001b[38;5;28mprint\u001b[39m(\u001b[38;5;124mf\u001b[39m\u001b[38;5;124m\"\u001b[39m\u001b[38;5;124mIteration: \u001b[39m\u001b[38;5;132;01m{\u001b[39;00mn_iter\u001b[38;5;132;01m}\u001b[39;00m\u001b[38;5;124m, t: \u001b[39m\u001b[38;5;132;01m{\u001b[39;00mt\u001b[38;5;132;01m}\u001b[39;00m\u001b[38;5;124m\"\u001b[39m)\n\u001b[1;32m---> 60\u001b[0m     v_inner_seq \u001b[38;5;241m=\u001b[39m \u001b[43mcentering_step\u001b[49m\u001b[43m(\u001b[49m\u001b[43mQ\u001b[49m\u001b[43m,\u001b[49m\u001b[43m \u001b[49m\u001b[43mp\u001b[49m\u001b[43m,\u001b[49m\u001b[43m \u001b[49m\u001b[43mA\u001b[49m\u001b[43m,\u001b[49m\u001b[43m \u001b[49m\u001b[43mb\u001b[49m\u001b[43m,\u001b[49m\u001b[43m \u001b[49m\u001b[43mt\u001b[49m\u001b[43m,\u001b[49m\u001b[43m \u001b[49m\u001b[43mv0\u001b[49m\u001b[43m,\u001b[49m\u001b[43m \u001b[49m\u001b[43meps\u001b[49m\u001b[43m)\u001b[49m\n\u001b[0;32m     61\u001b[0m     v_seq\u001b[38;5;241m.\u001b[39mappend(v_inner_seq)\n\u001b[0;32m     62\u001b[0m     v0 \u001b[38;5;241m=\u001b[39m v_inner_seq[\u001b[38;5;241m-\u001b[39m\u001b[38;5;241m1\u001b[39m]\n",
      "\u001b[1;31mTypeError\u001b[0m: centering_step() missing 4 required positional arguments: 'hess_f', 'v0', 'eps', and 'max_iter'"
     ]
    }
   ],
   "source": [
    "barrier_method(Q, p, b, A, v0, eps=1e-6, mu=30)"
   ]
  },
  {
   "cell_type": "code",
   "execution_count": 37,
   "id": "8c695dc6-a3b0-40bf-b5f0-a86ade0e0bf1",
   "metadata": {},
   "outputs": [
    {
     "name": "stdout",
     "output_type": "stream",
     "text": [
      "\n",
      "------------------------------------------------------------------\n",
      "Difference between min values:  2.292880759721299\n",
      "\n",
      "v_sol (my solution): [ 5.80976613e-16  4.72664339e-16  6.22477313e-16  7.92748553e-16\n",
      "  4.45539017e-16  7.52815869e-16 -3.36307752e-16 -1.67657413e-16\n",
      " -3.06113700e-16 -9.61701537e-17]\n",
      "x_sol (cvxpy solution): [0.96958463 0.77513282 0.93949894 0.89482735 0.59789998 0.92187424\n",
      " 0.0884925  0.19598286 0.04522729 0.32533033]\n"
     ]
    }
   ],
   "source": [
    "# Define and solve the CVXPY problem.\n",
    "x = cp.Variable(n)\n",
    "prob = cp.Problem(cp.Minimize((cp.quad_form(x, Q) + p.T @ x)), [A @ x <= b])\n",
    "print()\n",
    "print(\"------------------------------------------------------------------\")\n",
    "v_sol = v\n",
    "fx_sol = prob.solve()\n",
    "fv_sol = np.dot(v_sol, Q@v_sol) + np.dot(p.T, v_sol)\n",
    "print(\"Difference between min values: \", np.abs(fx_sol - fv_sol))\n",
    "print()\n",
    "print(\"v_sol (my solution):\", v_sol)\n",
    "print(\"x_sol (cvxpy solution):\", x.value)"
   ]
  },
  {
   "cell_type": "code",
   "execution_count": null,
   "id": "d85e37a1-60ff-4560-b541-d693b6f74643",
   "metadata": {},
   "outputs": [],
   "source": []
  }
 ],
 "metadata": {
  "kernelspec": {
   "display_name": "Python 3 (ipykernel)",
   "language": "python",
   "name": "python3"
  },
  "language_info": {
   "codemirror_mode": {
    "name": "ipython",
    "version": 3
   },
   "file_extension": ".py",
   "mimetype": "text/x-python",
   "name": "python",
   "nbconvert_exporter": "python",
   "pygments_lexer": "ipython3",
   "version": "3.12.7"
  }
 },
 "nbformat": 4,
 "nbformat_minor": 5
}

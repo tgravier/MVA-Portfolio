{
 "cells": [
  {
   "cell_type": "markdown",
   "id": "10bcf2df-fb52-4e55-80fc-03c41f272317",
   "metadata": {},
   "source": [
    "# HW 3 Convex Optimisation"
   ]
  },
  {
   "cell_type": "markdown",
   "id": "62a0582a-dc09-4dff-9ff1-840762ff5499",
   "metadata": {},
   "source": [
    "## Question 2"
   ]
  },
  {
   "cell_type": "code",
   "execution_count": 10,
   "id": "f4ab662a-487a-403d-8230-7824ecbc0cbc",
   "metadata": {},
   "outputs": [],
   "source": [
    "## Shape des variables\n",
    "\n",
    "# A --> R^n*2d\n",
    "# Q --> R^n**2\n",
    "# v, p --> R^n\n",
    "# b --> R^2n\n",
    "\n",
    "###\n",
    "\n",
    "import numpy as np\n",
    "import cvxpy as cp\n",
    "import warnings\n",
    "import numpy as np\n",
    "import matplotlib.pyplot as plt\n",
    "from tqdm import tqdm\n",
    "\n"
   ]
  },
  {
   "cell_type": "code",
   "execution_count": 11,
   "id": "8b7a9707-222b-40b5-a9d9-976b7988b211",
   "metadata": {},
   "outputs": [],
   "source": [
    "def value_g(Q, p, A, b, t, v):\n",
    "    value = t * (v.T[np.newaxis] @ Q @ v + p.T[np.newaxis] @ v) - np.sum(np.log(b - A @ v))\n",
    "    return value[0]\n",
    "\n",
    "def value_dual(Q, p, v):\n",
    "    return v.T[np.newaxis] @ Q @ v + p.T[np.newaxis] @ v\n",
    "\n",
    "def gradiant_g(Q, p, A, b, t, v):\n",
    "    gradient = 2 * t * (Q @ v) + t * p + np.sum(A * np.reciprocal(b - A @ v)[:, np.newaxis], axis=0)\n",
    "    return gradient\n",
    "\n",
    "def hessian_g(Q, A, b, t, v):\n",
    "    sum_term = np.power(b - A @ v, 2)\n",
    "    hessian_sum = A[0][np.newaxis].T @ A[0][np.newaxis] / sum_term[0]\n",
    "    for i in range(1, 2 * d):\n",
    "        hessian_sum += A[i][np.newaxis].T @ A[i][np.newaxis] / sum_term[i]\n",
    "    hessian = 2 * t * Q + hessian_sum\n",
    "    return hessian\n"
   ]
  },
  {
   "cell_type": "code",
   "execution_count": 12,
   "id": "794f2ab6-6a58-43cc-850d-61592473e6a9",
   "metadata": {},
   "outputs": [],
   "source": [
    "def line_search(v, dv, alpha=0.5, beta=0.9):\n",
    "    t = 1\n",
    "    while t > 1e-6:\n",
    "        objective_v = value_g(Q, p, A, b, t, v)\n",
    "        objective_dv = value_g(Q, p, A, b, t, v + t * dv)\n",
    "        gradient_v = gradiant_g(Q, p, A, b, t, v)\n",
    "\n",
    "        criterion = objective_v + alpha * t * (gradient_v.T @ dv)\n",
    "        stopping_criterium = (objective_dv < criterion)\n",
    "\n",
    "        if stopping_criterium:\n",
    "            break\n",
    "\n",
    "        if np.any(b - A @ (v + t * dv) <= 0):\n",
    "            return t\n",
    "\n",
    "        t *= beta\n",
    "\n",
    "    return t\n",
    "\n",
    "def centering_step(Q, p, A, b, t, v0, eps, max_iter=500):\n",
    "    nb_iter = 0\n",
    "    stopping_criterium = False\n",
    "    v = v0.copy()\n",
    "    v_n = [v0]\n",
    "    i = 0\n",
    "\n",
    "    while not stopping_criterium and i < max_iter:\n",
    "        i += 1\n",
    "        grad_g = gradiant_g(Q, p, A, b, t, v)\n",
    "        hess_g = hessian_g(Q, A, b, t, v)\n",
    "        delta_v = np.linalg.pinv(hess_g) @ grad_g\n",
    "        step = line_search(v, delta_v)\n",
    "        v = v - step * delta_v\n",
    "        v_n.append(v)\n",
    "        lambda2 = grad_g.T @ delta_v\n",
    "        stopping_criterium = (lambda2 / 2 <= eps)\n",
    "        nb_iter += 1\n",
    "\n",
    "    return v_n, nb_iter\n",
    "\n",
    "def barr_method(Q, p, A, b, v0, eps, mu=2, t=1, max_iter=500):\n",
    "    nb_iter = 0\n",
    "    stopping_criterium = False\n",
    "    v = v0.copy()\n",
    "    v_n = []\n",
    "    m = A.shape[0]\n",
    "    i = 0\n",
    "\n",
    "    while not stopping_criterium and i < max_iter:\n",
    "        i += 1\n",
    "        v_n.append(v)\n",
    "        v_all, nb_iter_centerStep = centering_step(Q, p, A, b, t, v_n[-1], eps)\n",
    "        v = v_all[-1]\n",
    "        stopping_criterium = (m / t < eps)\n",
    "        t *= mu\n",
    "        nb_iter += nb_iter_centerStep\n",
    "\n",
    "    return v_n, nb_iter\n",
    "\n",
    "\n"
   ]
  },
  {
   "cell_type": "markdown",
   "id": "9fc4713e-ec1b-4db5-9db1-d7c7d6da670c",
   "metadata": {},
   "source": [
    "## Question 3"
   ]
  },
  {
   "cell_type": "code",
   "execution_count": 13,
   "id": "3de00284-7f39-4bde-9d79-c31fa83d91a7",
   "metadata": {},
   "outputs": [],
   "source": [
    "np.random.seed(784)\n",
    "\n",
    "def initialize_problem(n=4, d=3, lmbda=10):\n",
    "    v0 = np.zeros(n)\n",
    "    eps = 0.01\n",
    "    X = np.random.rand(n, d)\n",
    "    y = np.random.rand(n)\n",
    "    Q = np.eye(n) / 2\n",
    "    p = -y.copy()\n",
    "    A = np.concatenate([X.T, -X.T])\n",
    "    b = lmbda * np.ones(2 * d)\n",
    "    return X, y, Q, p, A, b, v0, eps\n"
   ]
  },
  {
   "cell_type": "markdown",
   "id": "e228d4b3-fb5e-4f92-b7e2-a66ae206bf3e",
   "metadata": {},
   "source": [
    "In the next cell, the calculation of the sequences for $v$ is done for different values of $\\mu$ : 2, 15, 50, 100, 250, 500 and 1000.\n",
    "\n",
    "Then for each of the obtained sequences, the associated dual value is calculated."
   ]
  },
  {
   "cell_type": "code",
   "execution_count": 14,
   "id": "0c016b29-7626-46e4-9d64-0588760cecf3",
   "metadata": {},
   "outputs": [
    {
     "name": "stderr",
     "output_type": "stream",
     "text": [
      "  0%|                                                                                            | 0/7 [00:00<?, ?it/s]C:\\Users\\DAO.EZSPACE\\AppData\\Local\\Temp\\ipykernel_20604\\83268961.py:2: RuntimeWarning: invalid value encountered in log\n",
      "  value = t * (v.T[np.newaxis] @ Q @ v + p.T[np.newaxis] @ v) - np.sum(np.log(b - A @ v))\n",
      "100%|████████████████████████████████████████████████████████████████████████████████████| 7/7 [00:52<00:00,  7.50s/it]\n"
     ]
    }
   ],
   "source": [
    "np.random.seed(2022)\n",
    "\n",
    "# Initialisation des paramètres\n",
    "n, d = 40, 50\n",
    "X, y, Q, p, A, b, v0, eps = initialize_problem(n, d)\n",
    "eps = 1e-9\n",
    "\n",
    "mu_values = [2, 15, 50, 100, 250, 500, 1000]\n",
    "results = []\n",
    "\n",
    "# Calcul des séquences pour différentes valeurs de mu\n",
    "for mu in tqdm(mu_values):\n",
    "    v_sequence, iterations = barr_method(Q, p, A, b, v0, eps=eps, mu=mu, t=1)\n",
    "    results.append(v_sequence)\n",
    "\n",
    "# Calcul des valeurs du dual pour toutes les séquences\n",
    "dual_values = [[value_dual(Q, p, v) for v in results[i]] for i in range(len(results))]\n"
   ]
  },
  {
   "cell_type": "markdown",
   "id": "02a49f7a-1387-4c88-b176-62e2e9d31b3e",
   "metadata": {},
   "source": [
    "Once all sequences are obtained for the different $\\mu$ values tested, let's represent the gap $f(v)-f^{*}$ versus the number of iterations."
   ]
  },
  {
   "cell_type": "code",
   "execution_count": 15,
   "id": "70570d96-7683-48a5-94d4-ab86e8db9b23",
   "metadata": {},
   "outputs": [
    {
     "name": "stderr",
     "output_type": "stream",
     "text": [
      "C:\\Users\\DAO.EZSPACE\\AppData\\Local\\Temp\\ipykernel_20604\\83268961.py:2: RuntimeWarning: invalid value encountered in log\n",
      "  value = t * (v.T[np.newaxis] @ Q @ v + p.T[np.newaxis] @ v) - np.sum(np.log(b - A @ v))\n"
     ]
    },
    {
     "data": {
      "image/png": "[encoded data removed]",
      "text/plain": [
       "<Figure size 1200x700 with 1 Axes>"
      ]
     },
     "metadata": {},
     "output_type": "display_data"
    }
   ],
   "source": [
    "plt.figure(figsize=(12, 7))\n",
    "\n",
    "iteration_counts, objective_gaps = [], []\n",
    "\n",
    "for mu in mu_values:\n",
    "    v_list, iterations = barr_method(Q, p, A, b, v0, eps=eps, mu=mu, t=1)\n",
    "    iteration_counts.append(iterations)\n",
    "    gap_list = []\n",
    "\n",
    "    best_value = min(value_dual(Q, p, v) for v in v_list)\n",
    "\n",
    "    for v in v_list:\n",
    "        gap = value_dual(Q, p, v) - best_value\n",
    "        gap_list.append(gap[0])\n",
    "\n",
    "    plt.step(range(len(gap_list)), gap_list)\n",
    "\n",
    "plt.semilogy()\n",
    "plt.xlabel('Number of outer iterations', fontsize=12)\n",
    "plt.ylabel('$f(v_t) - f^*$', fontsize=16)\n",
    "plt.title(f'Gap $f(v_t) - f^*$ vs. $\\\\mu$\\nPrecision criterion: {eps}', fontsize=14)\n",
    "plt.legend([f'$\\\\mu = {x}$' for x in mu_values], loc='best')\n",
    "plt.show()\n"
   ]
  },
  {
   "cell_type": "markdown",
   "id": "eb0d0f91-9c46-4d1e-9fe5-582e73a13661",
   "metadata": {},
   "source": [
    "We conclude that **μ = 1000** is the fastest and the best value.\n"
   ]
  },
  {
   "cell_type": "markdown",
   "id": "63baee1a-5c01-4c06-8e58-610b06bad63b",
   "metadata": {},
   "source": [
    "Thanks for reading Thomas Gravier"
   ]
  },
  {
   "cell_type": "code",
   "execution_count": null,
   "id": "0848c20c-58c7-4711-8aa3-ebdfe6b850b4",
   "metadata": {},
   "outputs": [],
   "source": []
  }
 ],
 "metadata": {
  "kernelspec": {
   "display_name": "Python 3 (ipykernel)",
   "language": "python",
   "name": "python3"
  },
  "language_info": {
   "codemirror_mode": {
    "name": "ipython",
    "version": 3
   },
   "file_extension": ".py",
   "mimetype": "text/x-python",
   "name": "python",
   "nbconvert_exporter": "python",
   "pygments_lexer": "ipython3",
   "version": "3.12.7"
  }
 },
 "nbformat": 4,
 "nbformat_minor": 5
}

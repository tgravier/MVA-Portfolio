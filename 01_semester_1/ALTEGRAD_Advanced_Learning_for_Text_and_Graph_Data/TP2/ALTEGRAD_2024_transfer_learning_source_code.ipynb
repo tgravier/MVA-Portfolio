{
 "cells": [
  {
   "cell_type": "markdown",
   "metadata": {
    "id": "DlAfI8mCWAf3"
   },
   "source": [
    "<center><h2>ALTeGraD 2024<br>Lab Session 2: Transfer learning for NLP</h2> 15 / 10 / 2024<br> Dr. G. Shang, Y. Zhang<br><br>\n",
    "\n",
    "\n",
    "<b>Student name:</b> GRAVIER Thomas\n",
    "\n",
    "</center>\n",
    "\n",
    "<br><br>\n",
    "In this lab we will:\n",
    "* Implement and pretrain a language model with transformer architecture.\n",
    "* Use the pretrained model (transfer learning) to perform a sentiment analysis task which consists of classifying some books reviews into positive and negative ones.\n",
    "* Compare the performance of the pretrained model to a model trained from scratch.\n",
    " <br>\n",
    "\n",
    "<b>The deadline for this lab is October 22, 2024 11:59 PM.</b> More details about the submission and the architecture for this lab can be found in the handout PDF."
   ]
  },
  {
   "cell_type": "code",
   "execution_count": 1,
   "metadata": {
    "id": "IqukuIe0Rb_c"
   },
   "outputs": [],
   "source": [
    "import math\n",
    "\n",
    "import torch\n",
    "import torch.nn as nn\n",
    "from torch.nn.utils.rnn import pad_sequence\n",
    "\n",
    "device = torch.device(\"cuda\" if torch.cuda.is_available() else \"cpu\")"
   ]
  },
  {
   "cell_type": "code",
   "execution_count": 2,
   "metadata": {},
   "outputs": [
    {
     "data": {
      "text/plain": [
       "device(type='cuda')"
      ]
     },
     "execution_count": 2,
     "metadata": {},
     "output_type": "execute_result"
    }
   ],
   "source": [
    "device"
   ]
  },
  {
   "cell_type": "markdown",
   "metadata": {
    "id": "5FF6fjkqgN39"
   },
   "source": [
    "### The Model"
   ]
  },
  {
   "cell_type": "code",
   "execution_count": 3,
   "metadata": {
    "id": "p0cj9WkSFQwl"
   },
   "outputs": [],
   "source": [
    "class TransformerModel(nn.Module):\n",
    "    def __init__(self, ntoken, nhead, nhid, nlayers, dropout=0.5):\n",
    "        super(TransformerModel, self).__init__()\n",
    "        '''\n",
    "        ntokens: the size of vocabulary\n",
    "        nhid: the hidden dimension of the model.\n",
    "        We assume that embedding_dim = nhid\n",
    "        nlayers: the number of nn.TransformerEncoderLayer in nn.TransformerEncoder\n",
    "        nhead: the number of heads in the multiheadattention models\n",
    "        dropout: the dropout value\n",
    "        '''\n",
    "        self.model_type = \"Transformer\"\n",
    "        self.encoder = nn.Embedding(ntoken, nhid)  # Embedding: (batch_size, seq_len) -> (batch_size, seq_len, nhid)\n",
    "        self.pos_encoder = PositionalEncoding(nhid)\n",
    "        encoder_layers = nn.TransformerEncoderLayer(nhid, nhead, dim_feedforward=nhid, dropout=dropout)\n",
    "        self.transformer_encoder = nn.TransformerEncoder(encoder_layers, nlayers)\n",
    "        self.nhid = nhid\n",
    "        self.init_weights()\n",
    "\n",
    "    def generate_square_subsequent_mask(self, sz):\n",
    "        # Générer un masque carré basé sur la taille de la séquence (sz = sequence_length)\n",
    "        mask = (torch.triu(torch.ones(sz, sz)) == 1).transpose(0, 1)\n",
    "        mask = (\n",
    "            mask.float()\n",
    "            .masked_fill(mask == 0, float(\"-inf\"))\n",
    "            .masked_fill(mask == 1, float(0.0))\n",
    "        )\n",
    "        return mask\n",
    "\n",
    "    def init_weights(self):\n",
    "        initrange = 0.1\n",
    "        self.encoder.weight.data.uniform_(-initrange, initrange)\n",
    "\n",
    "    def forward(self, src, src_mask):\n",
    "        # src: (batch_size, seq_length)\n",
    "        src = self.encoder(src) * math.sqrt(self.nhid)  # Embedding et scalage\n",
    "        src = self.pos_encoder(src)  # Ajout de l'encodage positionnel\n",
    "        output = self.transformer_encoder(src, src_mask)  # Transformer avec masque\n",
    "        return output\n",
    "\n",
    "\n",
    "class ClassificationHead(nn.Module):\n",
    "    def __init__(self, nhid, nclasses):\n",
    "        super(ClassificationHead, self).__init__()\n",
    "        self.decoder = nn.Linear(nhid, nclasses)  # Projeter vers le nombre de classes\n",
    "        self.init_weights()\n",
    "\n",
    "    def init_weights(self):\n",
    "        initrange = 0.1\n",
    "        self.decoder.bias.data.zero_()\n",
    "        self.decoder.weight.data.uniform_(-initrange, initrange)\n",
    "\n",
    "    def forward(self, src):\n",
    "        output = self.decoder(src)  # (batch_size, nhid) -> (batch_size, nclasses)\n",
    "        return output\n",
    "\n",
    "\n",
    "class Model(nn.Module):\n",
    "    def __init__(self, ntoken, nhead, nhid, nlayers, nclasses, dropout=0.5):\n",
    "        super(Model, self).__init__()\n",
    "        self.base = TransformerModel(ntoken, nhead, nhid, nlayers, dropout)\n",
    "        self.classifier = ClassificationHead(nhid, nclasses)\n",
    "\n",
    "    def forward(self, src, src_mask):\n",
    "        # Passer par le modèle Transformer\n",
    "        x = self.base(src, src_mask)\n",
    "        # Pour la classification, on utilise uniquement le dernier vecteur de la séquence\n",
    "        output = nn.functional.softmax(self.classifier(x), dim=-1)  # (batch_size, nhid) -> (batch_size, nclasses)\n",
    "        return output\n"
   ]
  },
  {
   "cell_type": "code",
   "execution_count": 4,
   "metadata": {
    "id": "kt2QQohaFZry"
   },
   "outputs": [],
   "source": [
    "\n",
    "class PositionalEncoding(nn.Module):\n",
    "    def __init__(self, nhid, dropout=0.1, max_len=5000):\n",
    "        super(PositionalEncoding, self).__init__()\n",
    "        self.dropout = nn.Dropout(p=dropout)\n",
    "\n",
    "        pe = torch.zeros(max_len, nhid)\n",
    "        position = torch.arange(0, max_len, dtype=torch.float).unsqueeze(1)\n",
    "        div_term = torch.exp(\n",
    "            torch.arange(0, nhid, 2).float() * (-math.log(10000.0) / nhid)\n",
    "        )\n",
    "        pe[:, 0::2] = torch.sin(position * div_term)\n",
    "        pe[:, 1::2] = torch.cos(position * div_term)\n",
    "        pe = pe.unsqueeze(0).transpose(0, 1)\n",
    "        self.register_buffer(\"pe\", pe)\n",
    "\n",
    "    def forward(self, x):\n",
    "        x = x + self.pe[: x.size(0), :]\n",
    "        return self.dropout(x)\n"
   ]
  },
  {
   "cell_type": "markdown",
   "metadata": {
    "id": "SfEYHJx2JW6l"
   },
   "source": [
    "Let's verify if our model works, by applying one inference step"
   ]
  },
  {
   "cell_type": "code",
   "execution_count": 5,
   "metadata": {
    "id": "rhb2gkUhJMR0"
   },
   "outputs": [
    {
     "name": "stderr",
     "output_type": "stream",
     "text": [
      "C:\\Users\\DAO.EZSPACE\\anaconda3\\envs\\mva2\\Lib\\site-packages\\torch\\nn\\modules\\transformer.py:307: UserWarning: enable_nested_tensor is True, but self.use_nested_tensor is False because encoder_layer.self_attn.batch_first was not True(use batch_first for better inference performance)\n",
      "  warnings.warn(f\"enable_nested_tensor is True, but self.use_nested_tensor is False because {why_not_sparsity_fast_path}\")\n"
     ]
    },
    {
     "name": "stdout",
     "output_type": "stream",
     "text": [
      "torch.Size([1, 6, 100])\n"
     ]
    },
    {
     "name": "stderr",
     "output_type": "stream",
     "text": [
      "C:\\Users\\DAO.EZSPACE\\anaconda3\\envs\\mva2\\Lib\\site-packages\\torch\\nn\\functional.py:5560: UserWarning: 1Torch was not compiled with flash attention. (Triggered internally at C:\\actions-runner\\_work\\pytorch\\pytorch\\builder\\windows\\pytorch\\aten\\src\\ATen\\native\\transformers\\cuda\\sdp_utils.cpp:555.)\n",
      "  attn_output = scaled_dot_product_attention(q, k, v, attn_mask, dropout_p, is_causal)\n"
     ]
    }
   ],
   "source": [
    "ntokens = 100 # the size of vocabulary\n",
    "nhid = 200  # hidden dimension\n",
    "nlayers = 4  # the number of nn.TransformerEncoderLayer in nn.TransformerEncoder\n",
    "nhead = 2  # the number of heads in the multiheadattention models\n",
    "dropout = 0  # the dropout value\n",
    "\n",
    "model = Model(ntokens, nhead, nhid, nlayers, ntokens, dropout).to(device)\n",
    "dummy_input = torch.tensor([[2, 6, 2, 5, 43, 21]]).to(device)\n",
    "src_mask = model.base.generate_square_subsequent_mask(1).to(device)\n",
    "out = model.forward(dummy_input, src_mask)\n",
    "\n",
    "print(out.shape) # is it the right shape? yes"
   ]
  },
  {
   "cell_type": "code",
   "execution_count": null,
   "metadata": {},
   "outputs": [],
   "source": []
  },
  {
   "cell_type": "markdown",
   "metadata": {
    "id": "i74NN897Fcit"
   },
   "source": [
    "## Vocabulary and Tokenization"
   ]
  },
  {
   "cell_type": "code",
   "execution_count": 6,
   "metadata": {
    "id": "5qjd26ghWuff",
    "scrolled": true
   },
   "outputs": [
    {
     "name": "stdout",
     "output_type": "stream",
     "text": [
      "▁d 1\n",
      "es 1\n",
      "▁l 1\n",
      "en 1\n",
      "on 1\n",
      "▁p 1\n",
      "▁de 1\n",
      "▁s 1\n",
      "▁c 1\n",
      "an 1\n"
     ]
    }
   ],
   "source": [
    "import urllib.request\n",
    "\n",
    "# Télécharger le fichier dict.txt\n",
    "url = 'https://raw.githubusercontent.com/moussaKam/transfer_learning_transformers/main/dict.txt'\n",
    "urllib.request.urlretrieve(url, 'dict.txt')\n",
    "\n",
    "# Lire et afficher les 5 premières lignes du fichier\n",
    "with open('dict.txt', 'r', encoding='utf-8') as f:\n",
    "    for i in range(10):\n",
    "        print(f.readline().strip())\n"
   ]
  },
  {
   "cell_type": "code",
   "execution_count": 7,
   "metadata": {
    "id": "vFdH_-JeFbGA"
   },
   "outputs": [
    {
     "name": "stdout",
     "output_type": "stream",
     "text": [
      "▁trop\n"
     ]
    }
   ],
   "source": [
    "path_vocab = \"dict.txt\"\n",
    "token2ind = {\"<sos>\": 0, \"<pad>\": 1, \"<eos>\": 2, \"<oov>\": 3} # the 4 first indices are reserved to special tokens\n",
    "with open(path_vocab, \"r\", encoding=\"utf-8\") as f:\n",
    "    for idx, line in enumerate(f):\n",
    "        word = line.split()[0].strip()\n",
    "        \n",
    "        token2ind[word] =  idx + 4 #fill me\n",
    "     \n",
    "\n",
    "ind2token = {v: k for k, v in token2ind.items()} #fill me\n",
    "\n",
    "print(ind2token[1111])"
   ]
  },
  {
   "cell_type": "markdown",
   "metadata": {
    "id": "XOExGODajN8p"
   },
   "source": [
    "### Data Loader\n"
   ]
  },
  {
   "cell_type": "code",
   "execution_count": 8,
   "metadata": {
    "id": "Y0jN-Ar9i5Q1"
   },
   "outputs": [],
   "source": [
    "\n",
    "\n",
    "import numpy\n",
    "import torch\n",
    "from torch.nn.utils.rnn import pad_sequence\n",
    "from torch.utils.data import DataLoader, Dataset\n",
    "\n",
    "\n",
    "class Dataset(Dataset):\n",
    "    def __init__(\n",
    "        self,\n",
    "        path_documents,\n",
    "        path_labels=None,\n",
    "        token2ind={},\n",
    "        max_len=512,\n",
    "        task=\"language_modeling\",\n",
    "    ):\n",
    "        self.task = task\n",
    "        self.max_len = max_len\n",
    "        self.token2ind = token2ind\n",
    "        self.documents = []\n",
    "        self.labels = []\n",
    "        with open(path_documents, \"r\", encoding='utf-8') as f1:\n",
    "            for line in f1:\n",
    "                self.documents.append(line.strip())\n",
    "        if task == \"classification\":\n",
    "            with open(path_labels, \"r\", encoding='utf-8') as f1:\n",
    "                for line in f1:\n",
    "                    self.labels.append(int(line.strip()))\n",
    "            assert len(self.labels) == len(self.documents)\n",
    "\n",
    "    def __len__(self):\n",
    "        return len(self.documents)\n",
    "\n",
    "    def __getitem__(self, index):\n",
    "        sequence = self.documents[index].split()\n",
    "        if len(sequence) > self.max_len - 1:\n",
    "            sequence = sequence[: self.max_len - 1]\n",
    "        source_sequence = [token2ind[\"<sos>\"]]#fill me (constract the input sequence using token2ind, sequence and special tokens)\n",
    "        source_sequence +=  [self.token2ind.get(token, self.token2ind[\"<oov>\"]) for token in sequence ]\n",
    "        if self.task == \"language_modeling\":\n",
    "            target = source_sequence[1:]\n",
    "            target.append(self.token2ind[\"<eos>\"])\n",
    "        elif self.task == \"classification\":\n",
    "            target = [self.labels[index]]\n",
    "        sample = {\n",
    "            \"source_sequence\": torch.tensor(source_sequence),\n",
    "            \"target\": torch.tensor(target),\n",
    "        }\n",
    "        return sample\n",
    "\n",
    "\n",
    "def MyCollator(batch):\n",
    "    source_sequences = pad_sequence(\n",
    "        #we use padding to match the length of the sequences in the same batch\n",
    "        [sample[\"source_sequence\"] for sample in batch], padding_value=token2ind[\"<pad>\"]\n",
    "    )\n",
    "    target = pad_sequence(\n",
    "        [sample[\"target\"] for sample in batch], padding_value=token2ind[\"<pad>\"]\n",
    "    )\n",
    "    return source_sequences, target.reshape(-1)\n",
    "\n",
    "\n",
    "def get_loader(\n",
    "    path_documents,\n",
    "    path_labels=None,\n",
    "    token2ind={},\n",
    "    max_len=512,\n",
    "    batch_size=32,\n",
    "    task=\"language_modeling\",\n",
    "):\n",
    "    dataset = Dataset(\n",
    "        path_documents,\n",
    "        path_labels=path_labels,\n",
    "        token2ind=token2ind,\n",
    "        max_len=512,\n",
    "        task=task,\n",
    "    )\n",
    "    data_loader = DataLoader(\n",
    "        dataset=dataset,\n",
    "        batch_size=batch_size,\n",
    "        shuffle=True,\n",
    "        collate_fn=MyCollator,\n",
    "        pin_memory=True,\n",
    "        drop_last=True,\n",
    "    )\n",
    "    return data_loader"
   ]
  },
  {
   "cell_type": "markdown",
   "metadata": {
    "id": "uTns4lHrjUTa"
   },
   "source": [
    "## The Training"
   ]
  },
  {
   "cell_type": "code",
   "execution_count": 9,
   "metadata": {
    "id": "4_jwosiLjRsS"
   },
   "outputs": [],
   "source": [
    "def train(\n",
    "    path_data_train,\n",
    "    path_labels_train=None,\n",
    "    path_data_valid=None,\n",
    "    save_interval=-1,\n",
    "    log_interval=5,\n",
    "    task=\"language_modeling\",\n",
    "    batch_size=32,\n",
    "):\n",
    "    model.train()\n",
    "    total_loss = 0.0\n",
    "    ntokens = len(token2ind)\n",
    "    data_loader = get_loader(\n",
    "        path_data_train,\n",
    "        path_labels_train,\n",
    "        token2ind,\n",
    "        task=task,\n",
    "        batch_size=batch_size,\n",
    "    )\n",
    "\n",
    "    losses = []\n",
    "    for idx, data in enumerate(data_loader): #step 1\n",
    "        optimizer.zero_grad()\n",
    "        src_mask = model.base.generate_square_subsequent_mask(data[0].size(0)).to(\n",
    "            device\n",
    "        )\n",
    "        input = data[0].to(device)\n",
    "        output = model(input, src_mask) #step 2\n",
    "        if task == 'classification':\n",
    "            #last vector only\n",
    "            output = output[-1, :, :] #fill me\n",
    "        output = output.view(-1, output.shape[-1])\n",
    "        target = data[1] #fill me\n",
    "        target = target.to(device)\n",
    "        loss = criterion(output, target) #fill me, Cross entropy check next cells\n",
    "        loss.backward() #fill me step 3\n",
    "\n",
    "        torch.nn.utils.clip_grad_norm_(model.parameters(), 0.5) # prevent exploding gradient\n",
    "        optimizer.step() #fill me step 4\n",
    "\n",
    "        total_loss += loss.item()\n",
    "        if idx % log_interval == 0 and idx > 0:\n",
    "            cur_loss = total_loss / log_interval\n",
    "            print(\n",
    "                \"| epoch {:3d} | {:5d}/{:5d} steps | \"\n",
    "                \"loss {:5.5f} | ppl {:8.3f}\".format(\n",
    "                    epoch, idx, len(data_loader), cur_loss, math.exp(cur_loss),\n",
    "                )\n",
    "            )\n",
    "            losses.append(cur_loss)\n",
    "            total_loss = 0\n",
    "    return losses"
   ]
  },
  {
   "cell_type": "code",
   "execution_count": 10,
   "metadata": {
    "id": "pgf6BDB9jUr6"
   },
   "outputs": [],
   "source": [
    "ntokens = len(token2ind)#fill me # the size of vocabulary\n",
    "nhid = 200  # the dimension of the feedforward network model in nn.TransformerEncoder\n",
    "nlayers = 4  # the number of nn.TransformerEncoderLayer in nn.TransformerEncoder\n",
    "nhead = 2  # the number of heads in the multiheadattention models\n",
    "dropout = 0  # the dropout value\n",
    "\n",
    "nclasses = 2 # for classification task only\n",
    "\n",
    "model = Model(ntokens, nhead, nhid, nlayers, ntokens, dropout).to(device)"
   ]
  },
  {
   "cell_type": "code",
   "execution_count": 11,
   "metadata": {},
   "outputs": [
    {
     "data": {
      "text/plain": [
       "50001"
      ]
     },
     "execution_count": 11,
     "metadata": {},
     "output_type": "execute_result"
    }
   ],
   "source": [
    "len(token2ind)"
   ]
  },
  {
   "cell_type": "code",
   "execution_count": 12,
   "metadata": {
    "id": "u-OLy4KIkDwf"
   },
   "outputs": [],
   "source": [
    "# optimization paramerters\n",
    "\n",
    "criterion = nn.CrossEntropyLoss(ignore_index=token2ind['<pad>'])\n",
    "lr = 0.0003  # learning rate\n",
    "optimizer = torch.optim.Adam(model.parameters(), lr=lr)"
   ]
  },
  {
   "cell_type": "code",
   "execution_count": 14,
   "metadata": {
    "id": "Bwh3n9xZQy4e"
   },
   "outputs": [],
   "source": [
    "# Télécharger le fichier dict.txt\n",
    "#url = 'https://raw.githubusercontent.com/moussaKam/transfer_learning_transformers/main/pretraining_subset.txt'\n",
    "#urllib.request.urlretrieve(url, 'pretraining_subset.txt')\n",
    "\n",
    "path_data_train = \"pretraining_subset.txt\""
   ]
  },
  {
   "cell_type": "code",
   "execution_count": 15,
   "metadata": {
    "collapsed": true,
    "id": "0m11g4ScjZaR",
    "jupyter": {
     "outputs_hidden": true
    }
   },
   "outputs": [
    {
     "name": "stdout",
     "output_type": "stream",
     "text": [
      "| epoch   1 |   500/ 3125 steps | loss 10.80692 | ppl 49361.374\n"
     ]
    },
    {
     "ename": "KeyboardInterrupt",
     "evalue": "",
     "output_type": "error",
     "traceback": [
      "\u001b[1;31m---------------------------------------------------------------------------\u001b[0m",
      "\u001b[1;31mKeyboardInterrupt\u001b[0m                         Traceback (most recent call last)",
      "Cell \u001b[1;32mIn[15], line 5\u001b[0m\n\u001b[0;32m      3\u001b[0m epochs \u001b[38;5;241m=\u001b[39m \u001b[38;5;241m2\u001b[39m\n\u001b[0;32m      4\u001b[0m \u001b[38;5;28;01mfor\u001b[39;00m epoch \u001b[38;5;129;01min\u001b[39;00m \u001b[38;5;28mrange\u001b[39m(\u001b[38;5;241m1\u001b[39m, epochs \u001b[38;5;241m+\u001b[39m \u001b[38;5;241m1\u001b[39m): \u001b[38;5;66;03m#5\u001b[39;00m\n\u001b[1;32m----> 5\u001b[0m     \u001b[43mtrain\u001b[49m\u001b[43m(\u001b[49m\n\u001b[0;32m      6\u001b[0m \u001b[43m        \u001b[49m\u001b[43mpath_data_train\u001b[49m\u001b[43m,\u001b[49m\n\u001b[0;32m      7\u001b[0m \u001b[43m        \u001b[49m\u001b[43msave_interval\u001b[49m\u001b[38;5;241;43m=\u001b[39;49m\u001b[38;5;241;43m-\u001b[39;49m\u001b[38;5;241;43m1\u001b[39;49m\u001b[43m,\u001b[49m\n\u001b[0;32m      8\u001b[0m \u001b[43m        \u001b[49m\u001b[43mtask\u001b[49m\u001b[38;5;241;43m=\u001b[39;49m\u001b[38;5;124;43m\"\u001b[39;49m\u001b[38;5;124;43mlanguage_modeling\u001b[39;49m\u001b[38;5;124;43m\"\u001b[39;49m\u001b[43m,\u001b[49m\u001b[43m \u001b[49m\u001b[38;5;66;43;03m# fill me\u001b[39;49;00m\n\u001b[0;32m      9\u001b[0m \u001b[43m        \u001b[49m\u001b[43mbatch_size\u001b[49m\u001b[38;5;241;43m=\u001b[39;49m\u001b[38;5;241;43m16\u001b[39;49m\u001b[43m,\u001b[49m\n\u001b[0;32m     10\u001b[0m \u001b[43m        \u001b[49m\u001b[43mlog_interval\u001b[49m\u001b[38;5;241;43m=\u001b[39;49m\u001b[43mlog_interval\u001b[49m\u001b[43m,\u001b[49m\n\u001b[0;32m     11\u001b[0m \u001b[43m    \u001b[49m\u001b[43m)\u001b[49m\n",
      "Cell \u001b[1;32mIn[9], line 41\u001b[0m, in \u001b[0;36mtrain\u001b[1;34m(path_data_train, path_labels_train, path_data_valid, save_interval, log_interval, task, batch_size)\u001b[0m\n\u001b[0;32m     38\u001b[0m torch\u001b[38;5;241m.\u001b[39mnn\u001b[38;5;241m.\u001b[39mutils\u001b[38;5;241m.\u001b[39mclip_grad_norm_(model\u001b[38;5;241m.\u001b[39mparameters(), \u001b[38;5;241m0.5\u001b[39m) \u001b[38;5;66;03m# prevent exploding gradient\u001b[39;00m\n\u001b[0;32m     39\u001b[0m optimizer\u001b[38;5;241m.\u001b[39mstep() \u001b[38;5;66;03m#fill me step 4\u001b[39;00m\n\u001b[1;32m---> 41\u001b[0m total_loss \u001b[38;5;241m+\u001b[39m\u001b[38;5;241m=\u001b[39m \u001b[43mloss\u001b[49m\u001b[38;5;241;43m.\u001b[39;49m\u001b[43mitem\u001b[49m\u001b[43m(\u001b[49m\u001b[43m)\u001b[49m\n\u001b[0;32m     42\u001b[0m \u001b[38;5;28;01mif\u001b[39;00m idx \u001b[38;5;241m%\u001b[39m log_interval \u001b[38;5;241m==\u001b[39m \u001b[38;5;241m0\u001b[39m \u001b[38;5;129;01mand\u001b[39;00m idx \u001b[38;5;241m>\u001b[39m \u001b[38;5;241m0\u001b[39m:\n\u001b[0;32m     43\u001b[0m     cur_loss \u001b[38;5;241m=\u001b[39m total_loss \u001b[38;5;241m/\u001b[39m log_interval\n",
      "\u001b[1;31mKeyboardInterrupt\u001b[0m: "
     ]
    }
   ],
   "source": [
    "#pretraining on a tiny subset\n",
    "log_interval = 500\n",
    "epochs = 2\n",
    "for epoch in range(1, epochs + 1): #5\n",
    "    train(\n",
    "        path_data_train,\n",
    "        save_interval=-1,\n",
    "        task=\"language_modeling\", # fill me\n",
    "        batch_size=16,\n",
    "        log_interval=log_interval,\n",
    "    )"
   ]
  },
  {
   "cell_type": "markdown",
   "metadata": {
    "id": "MeOM1dOvkO4e"
   },
   "source": [
    "## Text Generation\n"
   ]
  },
  {
   "cell_type": "code",
   "execution_count": 16,
   "metadata": {
    "id": "-BcBC6FSkMH3"
   },
   "outputs": [
    {
     "name": "stderr",
     "output_type": "stream",
     "text": [
      "C:\\Users\\DAO.EZSPACE\\anaconda3\\envs\\mva2\\Lib\\site-packages\\torch\\nn\\modules\\transformer.py:307: UserWarning: enable_nested_tensor is True, but self.use_nested_tensor is False because encoder_layer.self_attn.batch_first was not True(use batch_first for better inference performance)\n",
      "  warnings.warn(f\"enable_nested_tensor is True, but self.use_nested_tensor is False because {why_not_sparsity_fast_path}\")\n",
      "C:\\Users\\DAO.EZSPACE\\AppData\\Local\\Temp\\ipykernel_20364\\685277671.py:10: FutureWarning: You are using `torch.load` with `weights_only=False` (the current default value), which uses the default pickle module implicitly. It is possible to construct malicious pickle data which will execute arbitrary code during unpickling (See https://github.com/pytorch/pytorch/blob/main/SECURITY.md#untrusted-models for more details). In a future release, the default value for `weights_only` will be flipped to `True`. This limits the functions that could be executed during unpickling. Arbitrary objects will no longer be allowed to be loaded via this mode unless they are explicitly allowlisted by the user via `torch.serialization.add_safe_globals`. We recommend you start setting `weights_only=True` for any use case where you don't have full control of the loaded file. Please open an issue on GitHub for any issues related to this experimental feature.\n",
      "  checkpoint = torch.load('pretrained_model_4layers.pt')\n"
     ]
    },
    {
     "data": {
      "text/plain": [
       "<All keys matched successfully>"
      ]
     },
     "execution_count": 16,
     "metadata": {},
     "output_type": "execute_result"
    }
   ],
   "source": [
    "\n",
    "\n",
    "import urllib.request\n",
    "\n",
    "# Télécharger le fichier dict.txt\n",
    "url = 'https://raw.githubusercontent.com/moussaKam/transfer_learning_transformers/main/pretrained_model_4layers.pt'\n",
    "urllib.request.urlretrieve(url, 'pretrained_model_4layers.pt')\n",
    "\n",
    "model = Model(ntokens, nhead, nhid, nlayers, ntokens).to(device)\n",
    "\n",
    "#load the checkpoint\n",
    "checkpoint = torch.load('pretrained_model_4layers.pt')\n",
    "#load state dict\n",
    "model.load_state_dict(checkpoint['model_state_dict'])"
   ]
  },
  {
   "cell_type": "code",
   "execution_count": 17,
   "metadata": {
    "id": "tBRRVsWqlIoQ"
   },
   "outputs": [
    {
     "name": "stdout",
     "output_type": "stream",
     "text": [
      "['▁Bonjour', '▁les', '▁amis', '!']\n",
      "Bonjour les amis!\n"
     ]
    }
   ],
   "source": [
    "# !pip install sentencepiece   # uncomment this if you are using google colab\n",
    "\n",
    "\n",
    "# Télécharger le fichier dict.txt\n",
    "url = 'https://raw.githubusercontent.com/moussaKam/transfer_learning_transformers/main/sentencepiece.french.model'\n",
    "urllib.request.urlretrieve(url, 'sentencepiece.french.model')\n",
    "\n",
    "import sentencepiece as spm\n",
    "\n",
    "s = spm.SentencePieceProcessor(model_file='sentencepiece.french.model') #load sentencepiece model\n",
    "\n",
    "#examples\n",
    "encoded = s.encode_as_pieces(\"Bonjour les amis!\")\n",
    "decoded = s.decode_pieces(encoded)\n",
    "print(encoded)\n",
    "print(decoded)"
   ]
  },
  {
   "cell_type": "code",
   "execution_count": 18,
   "metadata": {
    "id": "TtLlV05pkQI3"
   },
   "outputs": [],
   "source": [
    "def infer_next_token(sent):\n",
    "    model.eval()\n",
    "    sent_pieces = s.encode_as_pieces(sent)\n",
    "    source = [token2ind['<sos>']] + [token2ind[el] for el in sent_pieces] # list of tokens\n",
    "    source = torch.tensor(source).to(device)\n",
    "    source = source.reshape(-1, 1)\n",
    "    src_mask = model.base.generate_square_subsequent_mask(source.size(0)).to(device)\n",
    "    out = model(source, src_mask)\n",
    "    next_token_ind = torch.argmax(out[-1], dim=-1).item() # fill me \n",
    "    return next_token_ind, out\n",
    "\n",
    "def infer_next_tokens(sent, max_len=50):\n",
    "    model.eval()\n",
    "    \n",
    "    # Initialiser la séquence avec la phrase donnée\n",
    "    for _ in range(max_len):  # Limiter la longueur à max_len\n",
    "        # Utiliser la fonction infer_next_token pour prédire le prochain token\n",
    "        next_token_ind, _ = infer_next_token(sent)  # Utiliser la phrase actuelle pour prédire le prochain token\n",
    "        \n",
    "        # Ajouter le token prédit à la phrase\n",
    "        sent += \" \" + ind2token[next_token_ind]  # Convertir l'indice en token et l'ajouter à la phrase\n",
    "        \n",
    "        # Si le modèle prédit <eos>, arrêter la génération\n",
    "        if next_token_ind == token2ind['<eos>']:\n",
    "            break\n",
    "    \n",
    "    # Retourner la phrase complète générée\n",
    "    return sent\n",
    "\n"
   ]
  },
  {
   "cell_type": "code",
   "execution_count": 48,
   "metadata": {
    "id": "f83Nn5nSly4v"
   },
   "outputs": [
    {
     "data": {
      "text/plain": [
       "'Bonjour les ▁gens ▁qui ▁ont ▁été ▁très ▁accueillants ▁et ▁sympathiques . <eos>'"
      ]
     },
     "execution_count": 48,
     "metadata": {},
     "output_type": "execute_result"
    }
   ],
   "source": [
    "sent = \"Bonjour les\"\n",
    "infer_next_tokens(sent)"
   ]
  },
  {
   "cell_type": "markdown",
   "metadata": {
    "id": "Lp7mjVzomoZ3"
   },
   "source": [
    "### Supervised task"
   ]
  },
  {
   "cell_type": "code",
   "execution_count": 49,
   "metadata": {
    "id": "0K1BZsblmEmx"
   },
   "outputs": [],
   "source": [
    "import urllib.request\n",
    "\n",
    "# Télécharger le fichier 'train.review.spm'\n",
    "url_train_review = 'https://raw.githubusercontent.com/moussaKam/transfer_learning_transformers/main/cls-books/train.review.spm'\n",
    "urllib.request.urlretrieve(url_train_review, 'train.review.spm')\n",
    "\n",
    "# Télécharger le fichier 'train.label'\n",
    "url_train_label = 'https://raw.githubusercontent.com/moussaKam/transfer_learning_transformers/main/cls-books/train.label'\n",
    "urllib.request.urlretrieve(url_train_label, 'train.label')\n",
    "\n",
    "# Télécharger le fichier 'test.review.spm'\n",
    "url_test_review = 'https://raw.githubusercontent.com/moussaKam/transfer_learning_transformers/main/cls-books/test.review.spm'\n",
    "urllib.request.urlretrieve(url_test_review, 'test.review.spm')\n",
    "\n",
    "# Télécharger le fichier 'test.label'\n",
    "url_test_label = 'https://raw.githubusercontent.com/moussaKam/transfer_learning_transformers/main/cls-books/test.label'\n",
    "urllib.request.urlretrieve(url_test_label, 'test.label')\n",
    "\n",
    "\n",
    "path_data_train = \"train.review.spm\"\n",
    "path_labels_train = \"train.label\"\n",
    "\n",
    "path_data_valid = \"test.review.spm\"\n",
    "path_labels_valid = \"test.label\""
   ]
  },
  {
   "cell_type": "code",
   "execution_count": 55,
   "metadata": {
    "id": "_MLfvjiom2SL"
   },
   "outputs": [],
   "source": [
    "# a function to evaluate the validation accuracy of the model.\n",
    "def evaluate_accuracy(data_loader):\n",
    "    model.eval()\n",
    "    \n",
    "    running_corrects = 0\n",
    "    with torch.no_grad():\n",
    "        for idx, data in enumerate(data_loader):\n",
    "            src_mask = model.base.generate_square_subsequent_mask(data[0].size(0)).to(\n",
    "            device\n",
    "        )\n",
    "            input = data[0].to(device)\n",
    "            output = model(input, src_mask) # (2000, b_size, nclasses)\n",
    "            preds = output[-1, :, :]\n",
    "            labels = data[1].to(device)\n",
    "            running_corrects += torch.sum(preds.argmax(dim=1) == labels)\n",
    "    \n",
    "    epoch_acc = running_corrects.double() / len(data_loader.dataset)\n",
    "\n",
    "    return epoch_acc\n",
    "    #to be implemented"
   ]
  },
  {
   "cell_type": "code",
   "execution_count": 56,
   "metadata": {
    "id": "qzmx7T7xoa6v"
   },
   "outputs": [],
   "source": [
    "#save the base model to be loaded later in the fine-tuning phase\n",
    "torch.save({\"model_state_dict\": model.base.state_dict(),}, \"pretrained_model_4layers_no_class_head.pt\")"
   ]
  },
  {
   "cell_type": "code",
   "execution_count": 57,
   "metadata": {
    "id": "i-xclMCpnVpw"
   },
   "outputs": [
    {
     "name": "stdout",
     "output_type": "stream",
     "text": [
      "=====Trainig FROM SCRATCH======\n",
      "| epoch   1 |    50/  200 steps | loss 0.73545 | ppl    2.086\n",
      "| epoch   1 |   100/  200 steps | loss 0.70963 | ppl    2.033\n",
      "| epoch   1 |   150/  200 steps | loss 0.70056 | ppl    2.015\n",
      "| epoch   2 |    50/  200 steps | loss 0.65201 | ppl    1.919\n",
      "| epoch   2 |   100/  200 steps | loss 0.66267 | ppl    1.940\n",
      "| epoch   2 |   150/  200 steps | loss 0.61686 | ppl    1.853\n",
      "| epoch   3 |    50/  200 steps | loss 0.57836 | ppl    1.783\n",
      "| epoch   3 |   100/  200 steps | loss 0.53917 | ppl    1.715\n",
      "| epoch   3 |   150/  200 steps | loss 0.51172 | ppl    1.668\n",
      "| epoch   4 |    50/  200 steps | loss 0.43203 | ppl    1.540\n",
      "| epoch   4 |   100/  200 steps | loss 0.44320 | ppl    1.558\n",
      "| epoch   4 |   150/  200 steps | loss 0.42876 | ppl    1.535\n",
      "| epoch   5 |    50/  200 steps | loss 0.39173 | ppl    1.480\n",
      "| epoch   5 |   100/  200 steps | loss 0.39566 | ppl    1.485\n",
      "| epoch   5 |   150/  200 steps | loss 0.36490 | ppl    1.440\n",
      "| epoch   6 |    50/  200 steps | loss 0.38420 | ppl    1.468\n",
      "| epoch   6 |   100/  200 steps | loss 0.35350 | ppl    1.424\n",
      "| epoch   6 |   150/  200 steps | loss 0.35425 | ppl    1.425\n",
      "| epoch   7 |    50/  200 steps | loss 0.34504 | ppl    1.412\n",
      "| epoch   7 |   100/  200 steps | loss 0.34375 | ppl    1.410\n",
      "| epoch   7 |   150/  200 steps | loss 0.35266 | ppl    1.423\n",
      "| epoch   8 |    50/  200 steps | loss 0.35161 | ppl    1.421\n",
      "| epoch   8 |   100/  200 steps | loss 0.33577 | ppl    1.399\n",
      "| epoch   8 |   150/  200 steps | loss 0.34871 | ppl    1.417\n",
      "| epoch   9 |    50/  200 steps | loss 0.34750 | ppl    1.416\n",
      "| epoch   9 |   100/  200 steps | loss 0.33407 | ppl    1.397\n",
      "| epoch   9 |   150/  200 steps | loss 0.32972 | ppl    1.391\n",
      "| epoch  10 |    50/  200 steps | loss 0.33819 | ppl    1.402\n",
      "| epoch  10 |   100/  200 steps | loss 0.33168 | ppl    1.393\n",
      "| epoch  10 |   150/  200 steps | loss 0.33580 | ppl    1.399\n",
      "| epoch  11 |    50/  200 steps | loss 0.35177 | ppl    1.422\n",
      "| epoch  11 |   100/  200 steps | loss 0.33855 | ppl    1.403\n",
      "| epoch  11 |   150/  200 steps | loss 0.33816 | ppl    1.402\n",
      "| epoch  12 |    50/  200 steps | loss 0.34169 | ppl    1.407\n",
      "| epoch  12 |   100/  200 steps | loss 0.32169 | ppl    1.379\n",
      "| epoch  12 |   150/  200 steps | loss 0.34851 | ppl    1.417\n",
      "| epoch  13 |    50/  200 steps | loss 0.33738 | ppl    1.401\n",
      "| epoch  13 |   100/  200 steps | loss 0.34031 | ppl    1.405\n",
      "| epoch  13 |   150/  200 steps | loss 0.32840 | ppl    1.389\n",
      "| epoch  14 |    50/  200 steps | loss 0.35446 | ppl    1.425\n",
      "| epoch  14 |   100/  200 steps | loss 0.32082 | ppl    1.378\n",
      "| epoch  14 |   150/  200 steps | loss 0.32327 | ppl    1.382\n",
      "| epoch  15 |    50/  200 steps | loss 0.34046 | ppl    1.406\n",
      "| epoch  15 |   100/  200 steps | loss 0.33574 | ppl    1.399\n",
      "| epoch  15 |   150/  200 steps | loss 0.33880 | ppl    1.403\n",
      "\n",
      "=====PRETRAINED MODEL======\n"
     ]
    },
    {
     "name": "stderr",
     "output_type": "stream",
     "text": [
      "C:\\Users\\DAO.EZSPACE\\AppData\\Local\\Temp\\ipykernel_20364\\89992632.py:14: FutureWarning: You are using `torch.load` with `weights_only=False` (the current default value), which uses the default pickle module implicitly. It is possible to construct malicious pickle data which will execute arbitrary code during unpickling (See https://github.com/pytorch/pytorch/blob/main/SECURITY.md#untrusted-models for more details). In a future release, the default value for `weights_only` will be flipped to `True`. This limits the functions that could be executed during unpickling. Arbitrary objects will no longer be allowed to be loaded via this mode unless they are explicitly allowlisted by the user via `torch.serialization.add_safe_globals`. We recommend you start setting `weights_only=True` for any use case where you don't have full control of the loaded file. Please open an issue on GitHub for any issues related to this experimental feature.\n",
      "  checkpoint = torch.load(\"pretrained_model_4layers_no_class_head.pt\")\n"
     ]
    },
    {
     "name": "stdout",
     "output_type": "stream",
     "text": [
      "| epoch   1 |    50/  200 steps | loss 0.68963 | ppl    1.993\n",
      "| epoch   1 |   100/  200 steps | loss 0.61686 | ppl    1.853\n",
      "| epoch   1 |   150/  200 steps | loss 0.60886 | ppl    1.838\n",
      "| epoch   2 |    50/  200 steps | loss 0.54998 | ppl    1.733\n",
      "| epoch   2 |   100/  200 steps | loss 0.53960 | ppl    1.715\n",
      "| epoch   2 |   150/  200 steps | loss 0.49756 | ppl    1.645\n",
      "| epoch   3 |    50/  200 steps | loss 0.46801 | ppl    1.597\n",
      "| epoch   3 |   100/  200 steps | loss 0.44405 | ppl    1.559\n",
      "| epoch   3 |   150/  200 steps | loss 0.43515 | ppl    1.545\n",
      "| epoch   4 |    50/  200 steps | loss 0.40355 | ppl    1.497\n",
      "| epoch   4 |   100/  200 steps | loss 0.39322 | ppl    1.482\n",
      "| epoch   4 |   150/  200 steps | loss 0.39936 | ppl    1.491\n",
      "| epoch   5 |    50/  200 steps | loss 0.35059 | ppl    1.420\n",
      "| epoch   5 |   100/  200 steps | loss 0.35973 | ppl    1.433\n",
      "| epoch   5 |   150/  200 steps | loss 0.38514 | ppl    1.470\n",
      "| epoch   6 |    50/  200 steps | loss 0.35071 | ppl    1.420\n",
      "| epoch   6 |   100/  200 steps | loss 0.36670 | ppl    1.443\n",
      "| epoch   6 |   150/  200 steps | loss 0.33841 | ppl    1.403\n",
      "| epoch   7 |    50/  200 steps | loss 0.36334 | ppl    1.438\n",
      "| epoch   7 |   100/  200 steps | loss 0.34591 | ppl    1.413\n",
      "| epoch   7 |   150/  200 steps | loss 0.37815 | ppl    1.460\n",
      "| epoch   8 |    50/  200 steps | loss 0.34392 | ppl    1.410\n",
      "| epoch   8 |   100/  200 steps | loss 0.35548 | ppl    1.427\n",
      "| epoch   8 |   150/  200 steps | loss 0.33765 | ppl    1.402\n",
      "| epoch   9 |    50/  200 steps | loss 0.35120 | ppl    1.421\n",
      "| epoch   9 |   100/  200 steps | loss 0.32608 | ppl    1.386\n",
      "| epoch   9 |   150/  200 steps | loss 0.32853 | ppl    1.389\n",
      "| epoch  10 |    50/  200 steps | loss 0.35787 | ppl    1.430\n",
      "| epoch  10 |   100/  200 steps | loss 0.32937 | ppl    1.390\n",
      "| epoch  10 |   150/  200 steps | loss 0.32914 | ppl    1.390\n",
      "| epoch  11 |    50/  200 steps | loss 0.34300 | ppl    1.409\n",
      "| epoch  11 |   100/  200 steps | loss 0.33775 | ppl    1.402\n",
      "| epoch  11 |   150/  200 steps | loss 0.32059 | ppl    1.378\n",
      "| epoch  12 |    50/  200 steps | loss 0.33056 | ppl    1.392\n",
      "| epoch  12 |   100/  200 steps | loss 0.34508 | ppl    1.412\n",
      "| epoch  12 |   150/  200 steps | loss 0.33008 | ppl    1.391\n",
      "| epoch  13 |    50/  200 steps | loss 0.34372 | ppl    1.410\n",
      "| epoch  13 |   100/  200 steps | loss 0.32729 | ppl    1.387\n",
      "| epoch  13 |   150/  200 steps | loss 0.33584 | ppl    1.399\n",
      "| epoch  14 |    50/  200 steps | loss 0.34024 | ppl    1.405\n",
      "| epoch  14 |   100/  200 steps | loss 0.32725 | ppl    1.387\n",
      "| epoch  14 |   150/  200 steps | loss 0.33352 | ppl    1.396\n",
      "| epoch  15 |    50/  200 steps | loss 0.33466 | ppl    1.397\n",
      "| epoch  15 |   100/  200 steps | loss 0.34924 | ppl    1.418\n",
      "| epoch  15 |   150/  200 steps | loss 0.33230 | ppl    1.394\n",
      "\n"
     ]
    }
   ],
   "source": [
    "from_scratch_settings = [True, False]\n",
    "\n",
    "from_scratch_valid_acc = []\n",
    "pretrained_valid_acc = []\n",
    "lr = 0.0001\n",
    "\n",
    "for from_scratch in from_scratch_settings:\n",
    "    model = Model(ntokens, nhead, nhid, nlayers, 2, dropout).to(device)\n",
    "    criterion = nn.CrossEntropyLoss()\n",
    "    optimizer = torch.optim.Adam(model.parameters(), lr=lr)\n",
    "    if not from_scratch:\n",
    "        print(\"=====PRETRAINED MODEL======\")\n",
    "        #load checkpoint\n",
    "        checkpoint = torch.load(\"pretrained_model_4layers_no_class_head.pt\")\n",
    "        #load state dict\n",
    "        model.base.load_state_dict(checkpoint['model_state_dict'])\n",
    "    else:\n",
    "        print(\"=====Trainig FROM SCRATCH======\")\n",
    "    epochs = 15\n",
    "    for epoch in range(1, epochs + 1):\n",
    "        train(\n",
    "            path_data_train,\n",
    "            path_labels_train,\n",
    "            save_interval=-1,\n",
    "            task='classification',\n",
    "            batch_size=8,\n",
    "            log_interval=50,\n",
    "        )\n",
    "        acc = evaluate_accuracy(\n",
    "            get_loader(\n",
    "                path_data_valid,\n",
    "                path_labels_valid,\n",
    "                token2ind=token2ind,\n",
    "                batch_size=20,\n",
    "                task='classification',\n",
    "            )\n",
    "        )\n",
    "        if from_scratch:\n",
    "            from_scratch_valid_acc.append(acc)\n",
    "        else:\n",
    "            pretrained_valid_acc.append(acc)\n",
    "    print()"
   ]
  },
  {
   "cell_type": "code",
   "execution_count": null,
   "metadata": {
    "id": "RCpBIdTHojm6"
   },
   "outputs": [],
   "source": [
    "#Visualize the accuracy"
   ]
  },
  {
   "cell_type": "code",
   "execution_count": 58,
   "metadata": {},
   "outputs": [],
   "source": [
    "#Visualize the accuracy\n",
    "import matplotlib.pyplot as plt\n",
    "import numpy as np\n",
    "\n",
    "from_scratch_valid_acc_processed = [acc.cpu().numpy() for acc in from_scratch_valid_acc]\n",
    "pretrained_valid_acc_processed = [acc.cpu().numpy() for acc in pretrained_valid_acc]"
   ]
  },
  {
   "cell_type": "code",
   "execution_count": 67,
   "metadata": {},
   "outputs": [
    {
     "data": {
      "image/png": "[encoded data removed]",
      "text/plain": [
       "<Figure size 640x480 with 1 Axes>"
      ]
     },
     "metadata": {},
     "output_type": "display_data"
    }
   ],
   "source": [
    "import os\n",
    "\n",
    "# Ensure the directory exists\n",
    "save_dir = \"./figures\"\n",
    "if not os.path.exists(save_dir):\n",
    "    os.makedirs(save_dir)\n",
    "\n",
    "# Plotting\n",
    "plt.plot(from_scratch_valid_acc_processed, marker='o', color='orange')\n",
    "plt.grid(True)\n",
    "plt.xlabel('Epochs')\n",
    "plt.ylabel('Validation Accuracy')\n",
    "plt.ylim(0.5, 0.9)\n",
    "\n",
    "# Save the figure\n",
    "plt.savefig(os.path.join(save_dir, \"from_scratch_val_acc.pdf\"))\n",
    "plt.show()\n"
   ]
  },
  {
   "cell_type": "code",
   "execution_count": 69,
   "metadata": {},
   "outputs": [
    {
     "data": {
      "image/png": "[encoded data removed]",
      "text/plain": [
       "<Figure size 640x480 with 1 Axes>"
      ]
     },
     "metadata": {},
     "output_type": "display_data"
    }
   ],
   "source": [
    "import os\n",
    "\n",
    "# Ensure the directory exists\n",
    "save_dir = \"./figures\"\n",
    "if not os.path.exists(save_dir):\n",
    "    os.makedirs(save_dir)\n",
    "\n",
    "# Plotting\n",
    "plt.plot(pretrained_valid_acc_processed, marker='o', color='orange')\n",
    "plt.grid(True)\n",
    "plt.xlabel('Epochs')  # Capitalized 'epochs'\n",
    "plt.ylabel('Validation Accuracy')  # Corrected to 'Validation Accuracy'\n",
    "plt.ylim(0.5, 0.9)\n",
    "\n",
    "# Save the figure\n",
    "plt.savefig(os.path.join(save_dir, \"pretrained_val_accs.pdf\"))  # Fixed file name\n",
    "\n",
    "plt.show()\n"
   ]
  },
  {
   "cell_type": "code",
   "execution_count": null,
   "metadata": {},
   "outputs": [],
   "source": []
  }
 ],
 "metadata": {
  "accelerator": "GPU",
  "colab": {
   "provenance": []
  },
  "kernelspec": {
   "display_name": "Python 3 (ipykernel)",
   "language": "python",
   "name": "python3"
  },
  "language_info": {
   "codemirror_mode": {
    "name": "ipython",
    "version": 3
   },
   "file_extension": ".py",
   "mimetype": "text/x-python",
   "name": "python",
   "nbconvert_exporter": "python",
   "pygments_lexer": "ipython3",
   "version": "3.12.7"
  },
  "vscode": {
   "interpreter": {
    "hash": "1f3cfdeab8dd8f9900bd16266619de191cf0f5e09365d74b1fba1714dce58066"
   }
  }
 },
 "nbformat": 4,
 "nbformat_minor": 4
}
